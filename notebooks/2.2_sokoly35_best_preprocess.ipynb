{
 "cells": [
  {
   "cell_type": "markdown",
   "metadata": {},
   "source": [
    "# Setup and Data Import"
   ]
  },
  {
   "cell_type": "code",
   "execution_count": 1,
   "metadata": {},
   "outputs": [],
   "source": [
    "import matplotlib.pyplot as plt\n",
    "import seaborn as sns\n",
    "import sys\n",
    "import os\n",
    "\n",
    "from sklearn.model_selection import train_test_split\n",
    "from sklearn.preprocessing import LabelEncoder, StandardScaler, MinMaxScaler, FunctionTransformer\n",
    "from sklearn.pipeline import Pipeline\n",
    "from sklearn.feature_extraction.text import TfidfVectorizer\n",
    "from sklearn.metrics import classification_report\n",
    "\n",
    "sys.path.insert(0,'..')\n",
    "from src.data.make_dataset import read_main_df\n",
    "from src.models.import_model import define_tpot_model\n",
    "from src.models.model_selection import search_preprocessors"
   ]
  },
  {
   "cell_type": "code",
   "execution_count": 2,
   "metadata": {},
   "outputs": [],
   "source": [
    "sns.set()"
   ]
  },
  {
   "cell_type": "markdown",
   "metadata": {},
   "source": [
    "Firstly, we need to import dataset"
   ]
  },
  {
   "cell_type": "code",
   "execution_count": 3,
   "metadata": {},
   "outputs": [],
   "source": [
    "# Path to dataframe\n",
    "path_to_data = os.path.join('..', 'data', 'interim', 'prepared_data_Kamila.csv')\n",
    "\n",
    "# reading dataframe\n",
    "df = read_main_df(path_to_data,\n",
    "                 drop_columns=['language'],\n",
    "                 unstructured_columns=['tokens', 'entities', 'pos_tokens', 'tokens_lemma'])"
   ]
  },
  {
   "cell_type": "code",
   "execution_count": 4,
   "metadata": {},
   "outputs": [
    {
     "data": {
      "text/html": [
       "<div>\n",
       "<style scoped>\n",
       "    .dataframe tbody tr th:only-of-type {\n",
       "        vertical-align: middle;\n",
       "    }\n",
       "\n",
       "    .dataframe tbody tr th {\n",
       "        vertical-align: top;\n",
       "    }\n",
       "\n",
       "    .dataframe thead th {\n",
       "        text-align: right;\n",
       "    }\n",
       "</style>\n",
       "<table border=\"1\" class=\"dataframe\">\n",
       "  <thead>\n",
       "    <tr style=\"text-align: right;\">\n",
       "      <th></th>\n",
       "      <th>artist_name</th>\n",
       "      <th>track_name</th>\n",
       "      <th>popularity</th>\n",
       "      <th>genre</th>\n",
       "      <th>lyrics</th>\n",
       "      <th>tokens</th>\n",
       "      <th>entities</th>\n",
       "      <th>pos_tokens</th>\n",
       "      <th>tokens_lemma</th>\n",
       "    </tr>\n",
       "  </thead>\n",
       "  <tbody>\n",
       "    <tr>\n",
       "      <th>0</th>\n",
       "      <td>James Bay</td>\n",
       "      <td>Let It Go</td>\n",
       "      <td>73</td>\n",
       "      <td>rock</td>\n",
       "      <td>From walking home and talking loads To seeing ...</td>\n",
       "      <td>[walking, home, talking, loads, seeing, shows,...</td>\n",
       "      <td>{'evening': 'TIME', 'Tryna': 'PERSON', 'Cause'...</td>\n",
       "      <td>[(walking, v), (home, n), (talking, v), (loads...</td>\n",
       "      <td>[walk, home, talk, load, see, show, even, clot...</td>\n",
       "    </tr>\n",
       "    <tr>\n",
       "      <th>1</th>\n",
       "      <td>Bonobo</td>\n",
       "      <td>From You</td>\n",
       "      <td>67</td>\n",
       "      <td>jazz</td>\n",
       "      <td>Gone like changing seasons Alright alright You...</td>\n",
       "      <td>[gone, like, changing, seasons, alright, alrig...</td>\n",
       "      <td>{}</td>\n",
       "      <td>[(gone, v), (like, n), (changing, v), (seasons...</td>\n",
       "      <td>[go, like, change, season, alright, alright, s...</td>\n",
       "    </tr>\n",
       "    <tr>\n",
       "      <th>2</th>\n",
       "      <td>Lee Brice</td>\n",
       "      <td>One Of Them Girls</td>\n",
       "      <td>69</td>\n",
       "      <td>country</td>\n",
       "      <td>Are you one of them girls that peels off the B...</td>\n",
       "      <td>[one, girls, peels, bud, light, label, might, ...</td>\n",
       "      <td>{'Kinda': 'PERSON', 'one': 'CARDINAL', 'all ni...</td>\n",
       "      <td>[(one, n), (girls, n), (peels, n), (bud, v), (...</td>\n",
       "      <td>[one, girl, peel, bud, light, label, might, ru...</td>\n",
       "    </tr>\n",
       "    <tr>\n",
       "      <th>3</th>\n",
       "      <td>Andy Gibb</td>\n",
       "      <td>I Just Want To Be Your Everything</td>\n",
       "      <td>62</td>\n",
       "      <td>disco</td>\n",
       "      <td>For so long You and me been finding each other...</td>\n",
       "      <td>[long, finding, long, feeling, feel, strong, g...</td>\n",
       "      <td>{'Build': 'FAC'}</td>\n",
       "      <td>[(long, r), (finding, v), (long, r), (feeling,...</td>\n",
       "      <td>[long, find, long, feel, feel, strong, girl, t...</td>\n",
       "    </tr>\n",
       "    <tr>\n",
       "      <th>4</th>\n",
       "      <td>Earth, Wind &amp; Fire</td>\n",
       "      <td>You Want My Love</td>\n",
       "      <td>61</td>\n",
       "      <td>jazz</td>\n",
       "      <td>You ain t gotta say much I can tell that love ...</td>\n",
       "      <td>[got, ta, say, much, tell, love, means, someth...</td>\n",
       "      <td>{'Don': 'PERSON', 'Lies': 'PERSON'}</td>\n",
       "      <td>[(got, v), (ta, n), (say, v), (much, r), (tell...</td>\n",
       "      <td>[get, ta, say, much, tell, love, mean, somethi...</td>\n",
       "    </tr>\n",
       "  </tbody>\n",
       "</table>\n",
       "</div>"
      ],
      "text/plain": [
       "          artist_name                         track_name  popularity    genre  \\\n",
       "0           James Bay                          Let It Go          73     rock   \n",
       "1              Bonobo                           From You          67     jazz   \n",
       "2           Lee Brice                  One Of Them Girls          69  country   \n",
       "3           Andy Gibb  I Just Want To Be Your Everything          62    disco   \n",
       "4  Earth, Wind & Fire                   You Want My Love          61     jazz   \n",
       "\n",
       "                                              lyrics  \\\n",
       "0  From walking home and talking loads To seeing ...   \n",
       "1  Gone like changing seasons Alright alright You...   \n",
       "2  Are you one of them girls that peels off the B...   \n",
       "3  For so long You and me been finding each other...   \n",
       "4  You ain t gotta say much I can tell that love ...   \n",
       "\n",
       "                                              tokens  \\\n",
       "0  [walking, home, talking, loads, seeing, shows,...   \n",
       "1  [gone, like, changing, seasons, alright, alrig...   \n",
       "2  [one, girls, peels, bud, light, label, might, ...   \n",
       "3  [long, finding, long, feeling, feel, strong, g...   \n",
       "4  [got, ta, say, much, tell, love, means, someth...   \n",
       "\n",
       "                                            entities  \\\n",
       "0  {'evening': 'TIME', 'Tryna': 'PERSON', 'Cause'...   \n",
       "1                                                 {}   \n",
       "2  {'Kinda': 'PERSON', 'one': 'CARDINAL', 'all ni...   \n",
       "3                                   {'Build': 'FAC'}   \n",
       "4                {'Don': 'PERSON', 'Lies': 'PERSON'}   \n",
       "\n",
       "                                          pos_tokens  \\\n",
       "0  [(walking, v), (home, n), (talking, v), (loads...   \n",
       "1  [(gone, v), (like, n), (changing, v), (seasons...   \n",
       "2  [(one, n), (girls, n), (peels, n), (bud, v), (...   \n",
       "3  [(long, r), (finding, v), (long, r), (feeling,...   \n",
       "4  [(got, v), (ta, n), (say, v), (much, r), (tell...   \n",
       "\n",
       "                                        tokens_lemma  \n",
       "0  [walk, home, talk, load, see, show, even, clot...  \n",
       "1  [go, like, change, season, alright, alright, s...  \n",
       "2  [one, girl, peel, bud, light, label, might, ru...  \n",
       "3  [long, find, long, feel, feel, strong, girl, t...  \n",
       "4  [get, ta, say, much, tell, love, mean, somethi...  "
      ]
     },
     "execution_count": 4,
     "metadata": {},
     "output_type": "execute_result"
    }
   ],
   "source": [
    "df.head()"
   ]
  },
  {
   "cell_type": "markdown",
   "metadata": {},
   "source": [
    "Lets divide data on train and test data set"
   ]
  },
  {
   "cell_type": "code",
   "execution_count": 5,
   "metadata": {},
   "outputs": [],
   "source": [
    "# Splitting set to train and test sets\n",
    "df_train, df_test, y_train, y_test = train_test_split(df.loc[:, df.columns != 'genre'], df['genre'],\n",
    "                                                    random_state=7, stratify=df['genre'], test_size=0.2)"
   ]
  },
  {
   "cell_type": "markdown",
   "metadata": {},
   "source": [
    "# Finding best preprocessor pipeline"
   ]
  },
  {
   "cell_type": "markdown",
   "metadata": {},
   "source": [
    "## Define model"
   ]
  },
  {
   "cell_type": "markdown",
   "metadata": {},
   "source": [
    "In previous experiment we find best model via tpot library. We defined function to import it."
   ]
  },
  {
   "cell_type": "code",
   "execution_count": 6,
   "metadata": {},
   "outputs": [],
   "source": [
    "# Defining model\n",
    "model = define_tpot_model()"
   ]
  },
  {
   "cell_type": "markdown",
   "metadata": {},
   "source": [
    "The experiment is to find the most optimal preprocess pipeline. In searching tpot model we used TfIdf. Now we inspect also Bag of words and different scaling method. Normally rules of thumbs say that text processed with these algorithm doesn't need to be scaled, but maybe we find an interesting observation. In previous experiment we also find that the result of model was positively correlated with the number of `max_features` in tfidf, so this time we evaluate model on `max_features` $\\ge$ 300."
   ]
  },
  {
   "cell_type": "code",
   "execution_count": 7,
   "metadata": {},
   "outputs": [],
   "source": [
    "# Text columns used to experiment\n",
    "text_columns = ['tokens_lemma', 'tokens']\n",
    "# Tfidf param grid\n",
    "tfidf_params = {'max_features': [300, 400, 500, 600, 700],\n",
    "                'ngram_range': [(1, 3)],\n",
    "                'use_idf': [True, False],\n",
    "                'sublinear_tf': [True, False]}\n",
    "# Count Vectorizer param grid\n",
    "bow_params = {'max_features': [300, 400, 500, 600, 700],\n",
    "              'ngram_range': [(1, 1), (1, 2), (1, 3)]}\n",
    "# Possible scaling methods\n",
    "scalers = [None, StandardScaler(), MinMaxScaler()]\n",
    "# GridSearchCV additional arguments\n",
    "cv_kwargs = {'cv': 10, 'n_jobs': -1, 'refit': 'f1_weighted'}\n",
    "# Path to save result\n",
    "path = os.path.join('..', 'data', 'external', 'best_preprocess_results.csv')"
   ]
  },
  {
   "cell_type": "markdown",
   "metadata": {},
   "source": [
    "After defining param grids we run the experiment function"
   ]
  },
  {
   "cell_type": "code",
   "execution_count": 8,
   "metadata": {},
   "outputs": [
    {
     "name": "stdout",
     "output_type": "stream",
     "text": [
      "Iteration 0/12\n",
      "Iteration 1/12. Time:  92.59 min\n",
      "Iteration 2/12. Time:  92.94 min\n",
      "Iteration 3/12. Time:  92.41 min\n",
      "Iteration 4/12. Time:  52.41 min\n",
      "Iteration 5/12. Time:  52.57 min\n",
      "Iteration 6/12. Time:  53.03 min\n",
      "Iteration 7/12. Time:  90.89 min\n",
      "Iteration 8/12. Time:  92.36 min\n",
      "Iteration 9/12. Time:  90.43 min\n",
      "Iteration 10/12. Time:  52.40 min\n",
      "Iteration 11/12. Time:  52.84 min\n",
      "Iteration 12/12. Time:  53.33 min\n"
     ]
    }
   ],
   "source": [
    "results = search_preprocessors(model, df_train, y_train, \n",
    "                    text_columns=text_columns,\n",
    "                    tfidf_params=tfidf_params,\n",
    "                    bow_params=bow_params,\n",
    "                    scalers=scalers,\n",
    "                    cv_kwargs=cv_kwargs,\n",
    "                    random_state=7,\n",
    "                    verbose=1,\n",
    "                    path=path)"
   ]
  },
  {
   "cell_type": "code",
   "execution_count": 9,
   "metadata": {},
   "outputs": [
    {
     "data": {
      "text/html": [
       "<div>\n",
       "<style scoped>\n",
       "    .dataframe tbody tr th:only-of-type {\n",
       "        vertical-align: middle;\n",
       "    }\n",
       "\n",
       "    .dataframe tbody tr th {\n",
       "        vertical-align: top;\n",
       "    }\n",
       "\n",
       "    .dataframe thead th {\n",
       "        text-align: right;\n",
       "    }\n",
       "</style>\n",
       "<table border=\"1\" class=\"dataframe\">\n",
       "  <thead>\n",
       "    <tr style=\"text-align: right;\">\n",
       "      <th></th>\n",
       "      <th>On Column</th>\n",
       "      <th>Preprocessor</th>\n",
       "      <th>Scaler</th>\n",
       "      <th>Params</th>\n",
       "      <th>Accuracy</th>\n",
       "      <th>Recall</th>\n",
       "      <th>Precision</th>\n",
       "      <th>F1</th>\n",
       "    </tr>\n",
       "  </thead>\n",
       "  <tbody>\n",
       "    <tr>\n",
       "      <th>0</th>\n",
       "      <td>tokens_lemma</td>\n",
       "      <td>TfidfVectorizer</td>\n",
       "      <td>NoneType</td>\n",
       "      <td>{'preprocessor__max_features': 300, 'preproces...</td>\n",
       "      <td>0.42</td>\n",
       "      <td>0.42</td>\n",
       "      <td>0.41</td>\n",
       "      <td>0.41</td>\n",
       "    </tr>\n",
       "    <tr>\n",
       "      <th>1</th>\n",
       "      <td>tokens_lemma</td>\n",
       "      <td>TfidfVectorizer</td>\n",
       "      <td>NoneType</td>\n",
       "      <td>{'preprocessor__max_features': 300, 'preproces...</td>\n",
       "      <td>0.42</td>\n",
       "      <td>0.42</td>\n",
       "      <td>0.41</td>\n",
       "      <td>0.40</td>\n",
       "    </tr>\n",
       "    <tr>\n",
       "      <th>2</th>\n",
       "      <td>tokens_lemma</td>\n",
       "      <td>TfidfVectorizer</td>\n",
       "      <td>NoneType</td>\n",
       "      <td>{'preprocessor__max_features': 300, 'preproces...</td>\n",
       "      <td>0.42</td>\n",
       "      <td>0.42</td>\n",
       "      <td>0.40</td>\n",
       "      <td>0.40</td>\n",
       "    </tr>\n",
       "    <tr>\n",
       "      <th>3</th>\n",
       "      <td>tokens_lemma</td>\n",
       "      <td>TfidfVectorizer</td>\n",
       "      <td>NoneType</td>\n",
       "      <td>{'preprocessor__max_features': 300, 'preproces...</td>\n",
       "      <td>0.42</td>\n",
       "      <td>0.42</td>\n",
       "      <td>0.41</td>\n",
       "      <td>0.41</td>\n",
       "    </tr>\n",
       "    <tr>\n",
       "      <th>4</th>\n",
       "      <td>tokens_lemma</td>\n",
       "      <td>TfidfVectorizer</td>\n",
       "      <td>NoneType</td>\n",
       "      <td>{'preprocessor__max_features': 400, 'preproces...</td>\n",
       "      <td>0.43</td>\n",
       "      <td>0.43</td>\n",
       "      <td>0.42</td>\n",
       "      <td>0.42</td>\n",
       "    </tr>\n",
       "  </tbody>\n",
       "</table>\n",
       "</div>"
      ],
      "text/plain": [
       "      On Column     Preprocessor    Scaler  \\\n",
       "0  tokens_lemma  TfidfVectorizer  NoneType   \n",
       "1  tokens_lemma  TfidfVectorizer  NoneType   \n",
       "2  tokens_lemma  TfidfVectorizer  NoneType   \n",
       "3  tokens_lemma  TfidfVectorizer  NoneType   \n",
       "4  tokens_lemma  TfidfVectorizer  NoneType   \n",
       "\n",
       "                                              Params  Accuracy  Recall  \\\n",
       "0  {'preprocessor__max_features': 300, 'preproces...      0.42    0.42   \n",
       "1  {'preprocessor__max_features': 300, 'preproces...      0.42    0.42   \n",
       "2  {'preprocessor__max_features': 300, 'preproces...      0.42    0.42   \n",
       "3  {'preprocessor__max_features': 300, 'preproces...      0.42    0.42   \n",
       "4  {'preprocessor__max_features': 400, 'preproces...      0.43    0.43   \n",
       "\n",
       "   Precision    F1  \n",
       "0       0.41  0.41  \n",
       "1       0.41  0.40  \n",
       "2       0.40  0.40  \n",
       "3       0.41  0.41  \n",
       "4       0.42  0.42  "
      ]
     },
     "execution_count": 9,
     "metadata": {},
     "output_type": "execute_result"
    }
   ],
   "source": [
    "results.head()"
   ]
  },
  {
   "cell_type": "markdown",
   "metadata": {},
   "source": [
    "# Result visualization"
   ]
  },
  {
   "cell_type": "markdown",
   "metadata": {},
   "source": [
    "Lets check the best preprocessor and its results"
   ]
  },
  {
   "cell_type": "code",
   "execution_count": 10,
   "metadata": {},
   "outputs": [
    {
     "data": {
      "text/html": [
       "<div>\n",
       "<style scoped>\n",
       "    .dataframe tbody tr th:only-of-type {\n",
       "        vertical-align: middle;\n",
       "    }\n",
       "\n",
       "    .dataframe tbody tr th {\n",
       "        vertical-align: top;\n",
       "    }\n",
       "\n",
       "    .dataframe thead th {\n",
       "        text-align: right;\n",
       "    }\n",
       "</style>\n",
       "<table border=\"1\" class=\"dataframe\">\n",
       "  <thead>\n",
       "    <tr style=\"text-align: right;\">\n",
       "      <th></th>\n",
       "      <th>On Column</th>\n",
       "      <th>Preprocessor</th>\n",
       "      <th>Scaler</th>\n",
       "      <th>Params</th>\n",
       "      <th>Accuracy</th>\n",
       "      <th>Recall</th>\n",
       "      <th>Precision</th>\n",
       "      <th>F1</th>\n",
       "    </tr>\n",
       "  </thead>\n",
       "  <tbody>\n",
       "    <tr>\n",
       "      <th>16</th>\n",
       "      <td>tokens_lemma</td>\n",
       "      <td>TfidfVectorizer</td>\n",
       "      <td>NoneType</td>\n",
       "      <td>{'preprocessor__max_features': 700, 'preproces...</td>\n",
       "      <td>0.46</td>\n",
       "      <td>0.46</td>\n",
       "      <td>0.45</td>\n",
       "      <td>0.45</td>\n",
       "    </tr>\n",
       "  </tbody>\n",
       "</table>\n",
       "</div>"
      ],
      "text/plain": [
       "       On Column     Preprocessor    Scaler  \\\n",
       "16  tokens_lemma  TfidfVectorizer  NoneType   \n",
       "\n",
       "                                               Params  Accuracy  Recall  \\\n",
       "16  {'preprocessor__max_features': 700, 'preproces...      0.46    0.46   \n",
       "\n",
       "    Precision    F1  \n",
       "16       0.45  0.45  "
      ]
     },
     "execution_count": 10,
     "metadata": {},
     "output_type": "execute_result"
    }
   ],
   "source": [
    "# Finding preprocessor which had the max F1 score\n",
    "idxmax = results['F1'].idxmax()\n",
    "results.loc[idxmax:idxmax, :]"
   ]
  },
  {
   "cell_type": "code",
   "execution_count": 13,
   "metadata": {},
   "outputs": [
    {
     "data": {
      "text/plain": [
       "{'preprocessor__max_features': 700,\n",
       " 'preprocessor__ngram_range': (1, 3),\n",
       " 'preprocessor__sublinear_tf': True,\n",
       " 'preprocessor__use_idf': True}"
      ]
     },
     "execution_count": 13,
     "metadata": {},
     "output_type": "execute_result"
    }
   ],
   "source": [
    "results.loc[idxmax, 'Params']"
   ]
  },
  {
   "cell_type": "code",
   "execution_count": 11,
   "metadata": {},
   "outputs": [],
   "source": [
    "# Unpacking max_features params from dict of params \n",
    "results['max_features'] = results['Params'].apply(lambda x: x['preprocessor__max_features'])\n",
    "\n",
    "# We want to visualize solutions on pointplots\n",
    "# For simplify lets define function\n",
    "def make_pointplot(hue: str, ax):\n",
    "    \"\"\"\n",
    "    Function draw pointplot on given axis and split data on hue column\n",
    "    \n",
    "    Args:\n",
    "        hue: name of column with categorical variable to split them on plot\n",
    "        ax: matplotlib axes object\n",
    "    \"\"\"\n",
    "    sns.pointplot(x='max_features',\n",
    "              y='F1',\n",
    "              data=results,\n",
    "              hue=hue, ax=ax)\n"
   ]
  },
  {
   "cell_type": "markdown",
   "metadata": {},
   "source": [
    "We can visualize results with respect to different:\n",
    "- preprocessors\n",
    "- scalers\n",
    "- token type column"
   ]
  },
  {
   "cell_type": "code",
   "execution_count": 12,
   "metadata": {},
   "outputs": [
    {
     "data": {
      "image/png": "[encoded data removed]",
      "text/plain": [
       "<Figure size 576x720 with 3 Axes>"
      ]
     },
     "metadata": {},
     "output_type": "display_data"
    }
   ],
   "source": [
    "# Defining canvas\n",
    "fig, ax = plt.subplots(3, 1, figsize=(8, 10))\n",
    "\n",
    "# Drawing pointplots\n",
    "make_pointplot('Preprocessor', ax[0])\n",
    "make_pointplot('Scaler', ax[1])\n",
    "make_pointplot('On Column', ax[2])\n",
    "\n",
    "# Tighting layout for better estetic\n",
    "plt.tight_layout()\n",
    "# Display\n",
    "plt.show()"
   ]
  },
  {
   "cell_type": "markdown",
   "metadata": {},
   "source": [
    "# Evaluation on test set"
   ]
  },
  {
   "cell_type": "markdown",
   "metadata": {},
   "source": [
    "Lets evaluate our pipeline on test set"
   ]
  },
  {
   "cell_type": "code",
   "execution_count": 16,
   "metadata": {},
   "outputs": [],
   "source": [
    "# Processing input data\n",
    "X_train = df_train.copy()['tokens_lemma'].apply(lambda x: ' '.join(x))\n",
    "X_test = df_test.copy()['tokens_lemma'].apply(lambda x: ' '.join(x))\n",
    "\n",
    "# Encoding output data\n",
    "le = LabelEncoder()\n",
    "y_train_le = le.fit_transform(y_train)\n",
    "y_test_le = le.transform(y_test)\n",
    "\n",
    "\n",
    "tfidf_kwargs = {'max_features': 700,\n",
    "                 'ngram_range': (1, 3),\n",
    "                 'sublinear_tf': True,\n",
    "                 'use_idf': True}\n",
    "\n",
    "# Defining best preprocessor pipeline\n",
    "pipeline = Pipeline([('preprocessor', TfidfVectorizer(**tfidf_kwargs)),\n",
    "                     ('to_dense', FunctionTransformer(lambda x: x.toarray())),\n",
    "                     ('scaler', MinMaxScaler()),\n",
    "                     ('model', model)])\n",
    "\n",
    "# Training pipeline\n",
    "pipeline.fit(X_train, y_train_le);"
   ]
  },
  {
   "cell_type": "code",
   "execution_count": 17,
   "metadata": {},
   "outputs": [
    {
     "name": "stdout",
     "output_type": "stream",
     "text": [
      "              precision    recall  f1-score   support\n",
      "\n",
      "           0       0.30      0.33      0.32       141\n",
      "           1       0.61      0.70      0.65       167\n",
      "           2       0.49      0.50      0.50       141\n",
      "           3       0.64      0.77      0.70       152\n",
      "           4       0.51      0.46      0.48       105\n",
      "           5       0.39      0.33      0.35       143\n",
      "           6       0.41      0.50      0.45       169\n",
      "           7       0.36      0.16      0.22       100\n",
      "           8       0.00      0.00      0.00         6\n",
      "           9       0.22      0.20      0.21       133\n",
      "\n",
      "    accuracy                           0.46      1257\n",
      "   macro avg       0.39      0.39      0.39      1257\n",
      "weighted avg       0.44      0.46      0.44      1257\n",
      "\n"
     ]
    }
   ],
   "source": [
    "# Evaluating on test set\n",
    "preds = pipeline.predict(X_test)\n",
    "print(classification_report(y_test_le, preds))"
   ]
  },
  {
   "cell_type": "markdown",
   "metadata": {},
   "source": [
    "We can check how the pipeline will perform without the least frequent class which is reggae. We can see that accuracy increased a bit and macro accuracy increased substantially."
   ]
  },
  {
   "cell_type": "code",
   "execution_count": 29,
   "metadata": {},
   "outputs": [],
   "source": [
    "idx_tr = y_train[y_train != 'reggae'].index\n",
    "idx_test = y_test[y_test != 'reggae'].index"
   ]
  },
  {
   "cell_type": "code",
   "execution_count": 31,
   "metadata": {},
   "outputs": [],
   "source": [
    "# Processing input data\n",
    "X_train = df_train.loc[idx_tr, :].copy()['tokens_lemma'].apply(lambda x: ' '.join(x))\n",
    "X_test = df_test.loc[idx_test, :].copy()['tokens_lemma'].apply(lambda x: ' '.join(x))\n",
    "\n",
    "# Encoding output data\n",
    "le = LabelEncoder()\n",
    "y_train_le = le.fit_transform(y_train.loc[idx_tr])\n",
    "y_test_le = le.transform(y_test.loc[idx_test])\n",
    "\n",
    "\n",
    "tfidf_kwargs = {'max_features': 700,\n",
    "                 'ngram_range': (1, 3),\n",
    "                 'sublinear_tf': True,\n",
    "                 'use_idf': True}\n",
    "\n",
    "# Defining best preprocessor pipeline\n",
    "pipeline = Pipeline([('preprocessor', TfidfVectorizer(**tfidf_kwargs)),\n",
    "                     ('to_dense', FunctionTransformer(lambda x: x.toarray())),\n",
    "                     ('scaler', MinMaxScaler()),\n",
    "                     ('model', model)])\n",
    "\n",
    "# Training pipeline\n",
    "pipeline.fit(X_train, y_train_le);"
   ]
  },
  {
   "cell_type": "code",
   "execution_count": 32,
   "metadata": {},
   "outputs": [
    {
     "name": "stdout",
     "output_type": "stream",
     "text": [
      "              precision    recall  f1-score   support\n",
      "\n",
      "           0       0.34      0.37      0.35       141\n",
      "           1       0.66      0.71      0.68       167\n",
      "           2       0.51      0.52      0.51       141\n",
      "           3       0.63      0.76      0.69       152\n",
      "           4       0.48      0.47      0.47       105\n",
      "           5       0.37      0.30      0.33       143\n",
      "           6       0.42      0.51      0.46       169\n",
      "           7       0.34      0.14      0.20       100\n",
      "           8       0.24      0.23      0.24       133\n",
      "\n",
      "    accuracy                           0.47      1251\n",
      "   macro avg       0.44      0.45      0.44      1251\n",
      "weighted avg       0.45      0.47      0.45      1251\n",
      "\n"
     ]
    }
   ],
   "source": [
    "# Evaluating on test set\n",
    "preds = pipeline.predict(X_test)\n",
    "print(classification_report(y_test_le, preds))"
   ]
  }
 ],
 "metadata": {
  "kernelspec": {
   "display_name": "gauss_spotify",
   "language": "python",
   "name": "gauss_spotify"
  },
  "language_info": {
   "codemirror_mode": {
    "name": "ipython",
    "version": 3
   },
   "file_extension": ".py",
   "mimetype": "text/x-python",
   "name": "python",
   "nbconvert_exporter": "python",
   "pygments_lexer": "ipython3",
   "version": "3.9.7"
  },
  "toc": {
   "base_numbering": 1,
   "nav_menu": {},
   "number_sections": true,
   "sideBar": true,
   "skip_h1_title": false,
   "title_cell": "Table of Contents",
   "title_sidebar": "Contents",
   "toc_cell": false,
   "toc_position": {},
   "toc_section_display": true,
   "toc_window_display": false
  }
 },
 "nbformat": 4,
 "nbformat_minor": 2
}
