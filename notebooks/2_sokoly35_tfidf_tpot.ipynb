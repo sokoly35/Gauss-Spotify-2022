{
 "cells": [
  {
   "cell_type": "markdown",
   "metadata": {},
   "source": [
    "# Setup and Data Import"
   ]
  },
  {
   "cell_type": "code",
   "execution_count": 12,
   "metadata": {},
   "outputs": [],
   "source": [
    "import matplotlib.pyplot as plt\n",
    "import seaborn as sns\n",
    "import sys\n",
    "import os\n",
    "\n",
    "from sklearn.feature_extraction.text import TfidfVectorizer\n",
    "from sklearn.model_selection import train_test_split\n",
    "from sklearn.preprocessing import LabelEncoder\n",
    "from sklearn.ensemble import RandomForestClassifier\n",
    "from sklearn.naive_bayes import GaussianNB\n",
    "import xgboost as xgb\n",
    "\n",
    "from tpot import TPOTClassifier\n",
    "\n",
    "sys.path.insert(0,'..')\n",
    "from src.data.make_dataset import read_main_df\n",
    "from src.models.model_selection import find_optimal_tfidf_params"
   ]
  },
  {
   "cell_type": "code",
   "execution_count": 3,
   "metadata": {},
   "outputs": [],
   "source": [
    "# Setting seaborn plot style\n",
    "sns.set()"
   ]
  },
  {
   "cell_type": "code",
   "execution_count": 5,
   "metadata": {},
   "outputs": [],
   "source": [
    "# Path to dataframe\n",
    "path_to_data = os.path.join('..', 'data', 'interim', 'prepared_data_Kamila.csv')\n",
    "\n",
    "# reading dataframe\n",
    "df = read_main_df(path_to_data,\n",
    "                 drop_columns=['language'],\n",
    "                 unstructured_columns=['tokens', 'entities', 'pos_tokens', 'tokens_lemma'])"
   ]
  },
  {
   "cell_type": "code",
   "execution_count": 6,
   "metadata": {},
   "outputs": [
    {
     "data": {
      "text/html": [
       "<div>\n",
       "<style scoped>\n",
       "    .dataframe tbody tr th:only-of-type {\n",
       "        vertical-align: middle;\n",
       "    }\n",
       "\n",
       "    .dataframe tbody tr th {\n",
       "        vertical-align: top;\n",
       "    }\n",
       "\n",
       "    .dataframe thead th {\n",
       "        text-align: right;\n",
       "    }\n",
       "</style>\n",
       "<table border=\"1\" class=\"dataframe\">\n",
       "  <thead>\n",
       "    <tr style=\"text-align: right;\">\n",
       "      <th></th>\n",
       "      <th>artist_name</th>\n",
       "      <th>track_name</th>\n",
       "      <th>popularity</th>\n",
       "      <th>genre</th>\n",
       "      <th>lyrics</th>\n",
       "      <th>tokens</th>\n",
       "      <th>entities</th>\n",
       "      <th>pos_tokens</th>\n",
       "      <th>tokens_lemma</th>\n",
       "    </tr>\n",
       "  </thead>\n",
       "  <tbody>\n",
       "    <tr>\n",
       "      <th>0</th>\n",
       "      <td>James Bay</td>\n",
       "      <td>Let It Go</td>\n",
       "      <td>73</td>\n",
       "      <td>rock</td>\n",
       "      <td>From walking home and talking loads To seeing ...</td>\n",
       "      <td>[walking, home, talking, loads, seeing, shows,...</td>\n",
       "      <td>{'evening': 'TIME', 'Tryna': 'PERSON', 'Cause'...</td>\n",
       "      <td>[(walking, v), (home, n), (talking, v), (loads...</td>\n",
       "      <td>[walk, home, talk, load, see, show, even, clot...</td>\n",
       "    </tr>\n",
       "    <tr>\n",
       "      <th>1</th>\n",
       "      <td>Bonobo</td>\n",
       "      <td>From You</td>\n",
       "      <td>67</td>\n",
       "      <td>jazz</td>\n",
       "      <td>Gone like changing seasons Alright alright You...</td>\n",
       "      <td>[gone, like, changing, seasons, alright, alrig...</td>\n",
       "      <td>{}</td>\n",
       "      <td>[(gone, v), (like, n), (changing, v), (seasons...</td>\n",
       "      <td>[go, like, change, season, alright, alright, s...</td>\n",
       "    </tr>\n",
       "    <tr>\n",
       "      <th>2</th>\n",
       "      <td>Lee Brice</td>\n",
       "      <td>One Of Them Girls</td>\n",
       "      <td>69</td>\n",
       "      <td>country</td>\n",
       "      <td>Are you one of them girls that peels off the B...</td>\n",
       "      <td>[one, girls, peels, bud, light, label, might, ...</td>\n",
       "      <td>{'Kinda': 'PERSON', 'one': 'CARDINAL', 'all ni...</td>\n",
       "      <td>[(one, n), (girls, n), (peels, n), (bud, v), (...</td>\n",
       "      <td>[one, girl, peel, bud, light, label, might, ru...</td>\n",
       "    </tr>\n",
       "    <tr>\n",
       "      <th>3</th>\n",
       "      <td>Andy Gibb</td>\n",
       "      <td>I Just Want To Be Your Everything</td>\n",
       "      <td>62</td>\n",
       "      <td>disco</td>\n",
       "      <td>For so long You and me been finding each other...</td>\n",
       "      <td>[long, finding, long, feeling, feel, strong, g...</td>\n",
       "      <td>{'Build': 'FAC'}</td>\n",
       "      <td>[(long, r), (finding, v), (long, r), (feeling,...</td>\n",
       "      <td>[long, find, long, feel, feel, strong, girl, t...</td>\n",
       "    </tr>\n",
       "    <tr>\n",
       "      <th>4</th>\n",
       "      <td>Earth, Wind &amp; Fire</td>\n",
       "      <td>You Want My Love</td>\n",
       "      <td>61</td>\n",
       "      <td>jazz</td>\n",
       "      <td>You ain t gotta say much I can tell that love ...</td>\n",
       "      <td>[got, ta, say, much, tell, love, means, someth...</td>\n",
       "      <td>{'Don': 'PERSON', 'Lies': 'PERSON'}</td>\n",
       "      <td>[(got, v), (ta, n), (say, v), (much, r), (tell...</td>\n",
       "      <td>[get, ta, say, much, tell, love, mean, somethi...</td>\n",
       "    </tr>\n",
       "  </tbody>\n",
       "</table>\n",
       "</div>"
      ],
      "text/plain": [
       "          artist_name                         track_name  popularity    genre  \\\n",
       "0           James Bay                          Let It Go          73     rock   \n",
       "1              Bonobo                           From You          67     jazz   \n",
       "2           Lee Brice                  One Of Them Girls          69  country   \n",
       "3           Andy Gibb  I Just Want To Be Your Everything          62    disco   \n",
       "4  Earth, Wind & Fire                   You Want My Love          61     jazz   \n",
       "\n",
       "                                              lyrics  \\\n",
       "0  From walking home and talking loads To seeing ...   \n",
       "1  Gone like changing seasons Alright alright You...   \n",
       "2  Are you one of them girls that peels off the B...   \n",
       "3  For so long You and me been finding each other...   \n",
       "4  You ain t gotta say much I can tell that love ...   \n",
       "\n",
       "                                              tokens  \\\n",
       "0  [walking, home, talking, loads, seeing, shows,...   \n",
       "1  [gone, like, changing, seasons, alright, alrig...   \n",
       "2  [one, girls, peels, bud, light, label, might, ...   \n",
       "3  [long, finding, long, feeling, feel, strong, g...   \n",
       "4  [got, ta, say, much, tell, love, means, someth...   \n",
       "\n",
       "                                            entities  \\\n",
       "0  {'evening': 'TIME', 'Tryna': 'PERSON', 'Cause'...   \n",
       "1                                                 {}   \n",
       "2  {'Kinda': 'PERSON', 'one': 'CARDINAL', 'all ni...   \n",
       "3                                   {'Build': 'FAC'}   \n",
       "4                {'Don': 'PERSON', 'Lies': 'PERSON'}   \n",
       "\n",
       "                                          pos_tokens  \\\n",
       "0  [(walking, v), (home, n), (talking, v), (loads...   \n",
       "1  [(gone, v), (like, n), (changing, v), (seasons...   \n",
       "2  [(one, n), (girls, n), (peels, n), (bud, v), (...   \n",
       "3  [(long, r), (finding, v), (long, r), (feeling,...   \n",
       "4  [(got, v), (ta, n), (say, v), (much, r), (tell...   \n",
       "\n",
       "                                        tokens_lemma  \n",
       "0  [walk, home, talk, load, see, show, even, clot...  \n",
       "1  [go, like, change, season, alright, alright, s...  \n",
       "2  [one, girl, peel, bud, light, label, might, ru...  \n",
       "3  [long, find, long, feel, feel, strong, girl, t...  \n",
       "4  [get, ta, say, much, tell, love, mean, somethi...  "
      ]
     },
     "execution_count": 6,
     "metadata": {},
     "output_type": "execute_result"
    }
   ],
   "source": [
    "df.head()"
   ]
  },
  {
   "cell_type": "code",
   "execution_count": 7,
   "metadata": {},
   "outputs": [
    {
     "name": "stdout",
     "output_type": "stream",
     "text": [
      "{'evening': 'TIME', 'Tryna': 'PERSON', 'Cause': 'ORG'}\n"
     ]
    }
   ],
   "source": [
    "# Checking the look of entities observation\n",
    "print(df['entities'][0])"
   ]
  },
  {
   "cell_type": "code",
   "execution_count": 8,
   "metadata": {},
   "outputs": [
    {
     "data": {
      "text/plain": [
       "dict"
      ]
     },
     "execution_count": 8,
     "metadata": {},
     "output_type": "execute_result"
    }
   ],
   "source": [
    "# Checking if entities column was properly converted to usable dtype\n",
    "type(df['entities'][0])"
   ]
  },
  {
   "cell_type": "code",
   "execution_count": 9,
   "metadata": {},
   "outputs": [],
   "source": [
    "# Splitting set to train and test sets\n",
    "X_train, X_test, y_train, y_test = train_test_split(df.loc[:, df.columns != 'genre'], df['genre'],\n",
    "                                                    random_state=7, stratify=df['genre'], test_size=0.2)\n",
    "\n",
    "# Converting lemmatized tokens to plain text divided with white spaces\n",
    "# It is needed for proper tfidf\n",
    "X_train = X_train['tokens_lemma'].apply(lambda x: ' '.join(x))\n",
    "\n",
    "# Encoding classes\n",
    "label_encoder = LabelEncoder()\n",
    "y_train_le = label_encoder.fit_transform(y_train)"
   ]
  },
  {
   "cell_type": "markdown",
   "metadata": {},
   "source": [
    "# Checking for optimal Data Preprocessing params"
   ]
  },
  {
   "cell_type": "markdown",
   "metadata": {},
   "source": [
    "We want to use TPOT for AutoML but we need to provide data in some form. We decide to use TfIdf for this case, but first of all, we need to search optimal parameters especially for ngram_range and max_features. We will check sample solution on three models via 10-fold cross validation and evaluate result with F1 score. The results will be saved to csv file."
   ]
  },
  {
   "cell_type": "code",
   "execution_count": 10,
   "metadata": {},
   "outputs": [],
   "source": [
    "# Param space for tfidf\n",
    "param_grid = {'ngram_range': [(1, 1), (1, 2), (1, 3), (2, 2), (2, 3), (3, 3)],\n",
    "              'max_features': [i for i in range(30, 110, 10)] + [150, 200, 250, 300]}\n",
    "\n",
    "# Sample models on which we will evaluate preprocessed data\n",
    "models = {'Random Forest': RandomForestClassifier(max_depth=30),\n",
    "          'XGBoost Classifier': xgb.XGBClassifier(max_depth=30),\n",
    "          'Gaussian Naive Bayes': GaussianNB()}\n",
    "\n",
    "# Additional arguments for cv\n",
    "cv_kwargs = {'cv': 10,\n",
    "             'n_jobs': -1}\n",
    "\n",
    "# Path to save results\n",
    "path = os.path.join('..', 'data', 'external', 'tfidf_feat_ngram_results.csv')"
   ]
  },
  {
   "cell_type": "code",
   "execution_count": 26,
   "metadata": {},
   "outputs": [
    {
     "name": "stdout",
     "output_type": "stream",
     "text": [
      "Iteration 1/216\n",
      "Iteration 9/216\n",
      "Iteration 18/216\n",
      "Iteration 27/216\n",
      "Iteration 36/216\n",
      "Iteration 45/216\n",
      "Iteration 54/216\n",
      "Iteration 63/216\n",
      "Iteration 72/216\n",
      "Iteration 81/216\n",
      "Iteration 90/216\n",
      "Iteration 99/216\n",
      "Iteration 108/216\n",
      "Iteration 117/216\n",
      "Iteration 126/216\n",
      "Iteration 135/216\n",
      "Iteration 144/216\n",
      "Iteration 153/216\n",
      "Iteration 162/216\n",
      "Iteration 171/216\n",
      "Iteration 180/216\n",
      "Iteration 189/216\n",
      "Iteration 198/216\n",
      "Iteration 207/216\n",
      "Iteration 216/216\n",
      "Iteration 216/216\n"
     ]
    }
   ],
   "source": [
    "results = find_optimal_tfidf_params(X_train, \n",
    "                                    y_train_le,\n",
    "                                    param_grid, \n",
    "                                    models, \n",
    "                                    cv_kwargs=cv_kwargs,\n",
    "                                    path=path, verbose=True)"
   ]
  },
  {
   "cell_type": "code",
   "execution_count": 32,
   "metadata": {},
   "outputs": [
    {
     "data": {
      "text/html": [
       "<div>\n",
       "<style scoped>\n",
       "    .dataframe tbody tr th:only-of-type {\n",
       "        vertical-align: middle;\n",
       "    }\n",
       "\n",
       "    .dataframe tbody tr th {\n",
       "        vertical-align: top;\n",
       "    }\n",
       "\n",
       "    .dataframe thead th {\n",
       "        text-align: right;\n",
       "    }\n",
       "</style>\n",
       "<table border=\"1\" class=\"dataframe\">\n",
       "  <thead>\n",
       "    <tr style=\"text-align: right;\">\n",
       "      <th></th>\n",
       "      <th>Name</th>\n",
       "      <th>max_features</th>\n",
       "      <th>ngram_range</th>\n",
       "      <th>Accuracy</th>\n",
       "      <th>Recall</th>\n",
       "      <th>Precision</th>\n",
       "      <th>F1</th>\n",
       "    </tr>\n",
       "  </thead>\n",
       "  <tbody>\n",
       "    <tr>\n",
       "      <th>0</th>\n",
       "      <td>Random Forest</td>\n",
       "      <td>30</td>\n",
       "      <td>(1, 1)</td>\n",
       "      <td>[0.28, 0.28, 0.26, 0.27, 0.29, 0.28, 0.25, 0.2...</td>\n",
       "      <td>[0.28, 0.28, 0.26, 0.27, 0.29, 0.28, 0.25, 0.2...</td>\n",
       "      <td>[0.29, 0.27, 0.25, 0.24, 0.26, 0.27, 0.25, 0.2...</td>\n",
       "      <td>[0.27, 0.26, 0.25, 0.25, 0.26, 0.26, 0.24, 0.2...</td>\n",
       "    </tr>\n",
       "    <tr>\n",
       "      <th>1</th>\n",
       "      <td>XGBoost Classifier</td>\n",
       "      <td>30</td>\n",
       "      <td>(1, 1)</td>\n",
       "      <td>[0.27, 0.24, 0.26, 0.28, 0.26, 0.3, 0.25, 0.28...</td>\n",
       "      <td>[0.27, 0.24, 0.26, 0.28, 0.26, 0.3, 0.25, 0.28...</td>\n",
       "      <td>[0.26, 0.23, 0.25, 0.28, 0.25, 0.28, 0.24, 0.2...</td>\n",
       "      <td>[0.26, 0.24, 0.25, 0.27, 0.25, 0.29, 0.25, 0.2...</td>\n",
       "    </tr>\n",
       "    <tr>\n",
       "      <th>2</th>\n",
       "      <td>Gaussian Naive Bayes</td>\n",
       "      <td>30</td>\n",
       "      <td>(1, 1)</td>\n",
       "      <td>[0.2, 0.17, 0.24, 0.15, 0.22, 0.19, 0.2, 0.2, ...</td>\n",
       "      <td>[0.2, 0.17, 0.24, 0.15, 0.22, 0.19, 0.2, 0.2, ...</td>\n",
       "      <td>[0.19, 0.17, 0.23, 0.15, 0.22, 0.19, 0.23, 0.2...</td>\n",
       "      <td>[0.19, 0.16, 0.22, 0.14, 0.2, 0.18, 0.2, 0.2, ...</td>\n",
       "    </tr>\n",
       "    <tr>\n",
       "      <th>3</th>\n",
       "      <td>Random Forest</td>\n",
       "      <td>40</td>\n",
       "      <td>(1, 1)</td>\n",
       "      <td>[0.27, 0.33, 0.27, 0.3, 0.32, 0.3, 0.28, 0.31,...</td>\n",
       "      <td>[0.27, 0.33, 0.27, 0.3, 0.32, 0.3, 0.28, 0.31,...</td>\n",
       "      <td>[0.27, 0.32, 0.25, 0.28, 0.31, 0.31, 0.27, 0.2...</td>\n",
       "      <td>[0.26, 0.3, 0.25, 0.28, 0.3, 0.28, 0.26, 0.29,...</td>\n",
       "    </tr>\n",
       "    <tr>\n",
       "      <th>4</th>\n",
       "      <td>XGBoost Classifier</td>\n",
       "      <td>40</td>\n",
       "      <td>(1, 1)</td>\n",
       "      <td>[0.3, 0.29, 0.3, 0.31, 0.28, 0.31, 0.26, 0.34,...</td>\n",
       "      <td>[0.3, 0.29, 0.3, 0.31, 0.28, 0.31, 0.26, 0.34,...</td>\n",
       "      <td>[0.3, 0.28, 0.29, 0.31, 0.27, 0.3, 0.25, 0.32,...</td>\n",
       "      <td>[0.29, 0.28, 0.29, 0.3, 0.27, 0.3, 0.25, 0.32,...</td>\n",
       "    </tr>\n",
       "  </tbody>\n",
       "</table>\n",
       "</div>"
      ],
      "text/plain": [
       "                   Name  max_features ngram_range  \\\n",
       "0         Random Forest            30      (1, 1)   \n",
       "1    XGBoost Classifier            30      (1, 1)   \n",
       "2  Gaussian Naive Bayes            30      (1, 1)   \n",
       "3         Random Forest            40      (1, 1)   \n",
       "4    XGBoost Classifier            40      (1, 1)   \n",
       "\n",
       "                                            Accuracy  \\\n",
       "0  [0.28, 0.28, 0.26, 0.27, 0.29, 0.28, 0.25, 0.2...   \n",
       "1  [0.27, 0.24, 0.26, 0.28, 0.26, 0.3, 0.25, 0.28...   \n",
       "2  [0.2, 0.17, 0.24, 0.15, 0.22, 0.19, 0.2, 0.2, ...   \n",
       "3  [0.27, 0.33, 0.27, 0.3, 0.32, 0.3, 0.28, 0.31,...   \n",
       "4  [0.3, 0.29, 0.3, 0.31, 0.28, 0.31, 0.26, 0.34,...   \n",
       "\n",
       "                                              Recall  \\\n",
       "0  [0.28, 0.28, 0.26, 0.27, 0.29, 0.28, 0.25, 0.2...   \n",
       "1  [0.27, 0.24, 0.26, 0.28, 0.26, 0.3, 0.25, 0.28...   \n",
       "2  [0.2, 0.17, 0.24, 0.15, 0.22, 0.19, 0.2, 0.2, ...   \n",
       "3  [0.27, 0.33, 0.27, 0.3, 0.32, 0.3, 0.28, 0.31,...   \n",
       "4  [0.3, 0.29, 0.3, 0.31, 0.28, 0.31, 0.26, 0.34,...   \n",
       "\n",
       "                                           Precision  \\\n",
       "0  [0.29, 0.27, 0.25, 0.24, 0.26, 0.27, 0.25, 0.2...   \n",
       "1  [0.26, 0.23, 0.25, 0.28, 0.25, 0.28, 0.24, 0.2...   \n",
       "2  [0.19, 0.17, 0.23, 0.15, 0.22, 0.19, 0.23, 0.2...   \n",
       "3  [0.27, 0.32, 0.25, 0.28, 0.31, 0.31, 0.27, 0.2...   \n",
       "4  [0.3, 0.28, 0.29, 0.31, 0.27, 0.3, 0.25, 0.32,...   \n",
       "\n",
       "                                                  F1  \n",
       "0  [0.27, 0.26, 0.25, 0.25, 0.26, 0.26, 0.24, 0.2...  \n",
       "1  [0.26, 0.24, 0.25, 0.27, 0.25, 0.29, 0.25, 0.2...  \n",
       "2  [0.19, 0.16, 0.22, 0.14, 0.2, 0.18, 0.2, 0.2, ...  \n",
       "3  [0.26, 0.3, 0.25, 0.28, 0.3, 0.28, 0.26, 0.29,...  \n",
       "4  [0.29, 0.28, 0.29, 0.3, 0.27, 0.3, 0.25, 0.32,...  "
      ]
     },
     "execution_count": 32,
     "metadata": {},
     "output_type": "execute_result"
    }
   ],
   "source": [
    "results.head()"
   ]
  },
  {
   "cell_type": "markdown",
   "metadata": {},
   "source": [
    "## Example of usage warm_start"
   ]
  },
  {
   "cell_type": "markdown",
   "metadata": {},
   "source": [
    "If your code stopped working before end then you can use warm_start. Below we can see how to use it. We have to specify list of dicts with combinations we want to exclude. If the number of combinations is large it is handy to use dictionary comprehension."
   ]
  },
  {
   "cell_type": "code",
   "execution_count": 17,
   "metadata": {},
   "outputs": [],
   "source": [
    "# Param space for tfidf\n",
    "param_grid = {'ngram_range': [(1, 1), (1, 2)],\n",
    "              'max_features': [20, 30]}\n",
    "\n",
    "# Sample models on which we will evaluate preprocessed data\n",
    "models = {'Random Forest': RandomForestClassifier(max_depth=30),\n",
    "          'XGBoost Classifier': xgb.XGBClassifier(max_depth=30),\n",
    "          'Gaussian Naive Bayes': GaussianNB()}\n",
    "\n",
    "# Combinations which we want to exclude from experiment\n",
    "warm_start = [{'ngram_range': (1, 1), 'max_features': 30}, \n",
    "              {'ngram_range': (1, 1), 'max_features': 40}]\n",
    "\n",
    "results_warm = find_optimal_tfidf_params(X_train, \n",
    "                                         y_train_le,\n",
    "                                         param_grid, \n",
    "                                         models)\n",
    "\n",
    "results_warm.head()"
   ]
  },
  {
   "cell_type": "markdown",
   "metadata": {},
   "source": [
    "# Visualization"
   ]
  },
  {
   "cell_type": "markdown",
   "metadata": {},
   "source": [
    "We want to investigate the optimal parameters for TPOT evaluation. As we can see the F1 score increases with respect to `max_features` increase. We absolutely have to considering values of `ngram_range` starting from 1. As the `ngram_range=(1, 3)` performs slightly better we will use it."
   ]
  },
  {
   "cell_type": "code",
   "execution_count": 52,
   "metadata": {},
   "outputs": [
    {
     "data": {
      "image/png": "[encoded data removed]",
      "text/plain": [
       "<Figure size 936x576 with 1 Axes>"
      ]
     },
     "metadata": {},
     "output_type": "display_data"
    }
   ],
   "source": [
    "# Exploding DataFrame of lists to proper pandas DataFrames\n",
    "scores = ['Accuracy', 'Recall', 'Precision', 'F1']\n",
    "results_exploded = results.explode(scores, ignore_index=True)\n",
    "\n",
    "plt.figure(figsize=(13, 8))\n",
    "sns.pointplot(x='max_features', y='F1', data=results_exploded, hue='ngram_range')\n",
    "plt.show()"
   ]
  },
  {
   "cell_type": "markdown",
   "metadata": {},
   "source": [
    "# TPOT"
   ]
  },
  {
   "cell_type": "code",
   "execution_count": 12,
   "metadata": {},
   "outputs": [],
   "source": [
    "# Path to save progress of tpot\n",
    "path_to_memory = os.path.join('..', 'models', 'tpot')\n",
    "path_to_tpot_model = os.path.join('..', 'models', 'tpot_model.py')\n",
    "\n",
    "# Best features from previous experiment\n",
    "best_params = {'ngram_range': (1, 3), 'max_features': 300}\n",
    "# Processing X_train dataframe\n",
    "tfidf = TfidfVectorizer(**best_params)\n",
    "X_tfidf = tfidf.fit_transform(X_train).toarray()\n",
    "\n",
    "# Encoding labels\n",
    "label_encoder = LabelEncoder()\n",
    "y_train_le = label_encoder.fit_transform(y_train)"
   ]
  },
  {
   "cell_type": "code",
   "execution_count": 13,
   "metadata": {},
   "outputs": [
    {
     "data": {
      "text/plain": [
       "(5028, 300)"
      ]
     },
     "execution_count": 13,
     "metadata": {},
     "output_type": "execute_result"
    }
   ],
   "source": [
    "# Shape of processed X_tfidf\n",
    "X_tfidf.shape"
   ]
  },
  {
   "cell_type": "code",
   "execution_count": 16,
   "metadata": {},
   "outputs": [],
   "source": [
    "tpot_classifier = TPOTClassifier(generations=50, \n",
    "                                 population_size=30, \n",
    "                                 scoring='f1_weighted',\n",
    "                                 cv=5,\n",
    "                                 random_state=42, \n",
    "                                 verbosity=2,\n",
    "                                 n_jobs=-1,\n",
    "                                 max_eval_time_mins=10,    # tpot has 10 mins to evaluate model\n",
    "                                 memory=path_to_memory,    # Saving progress in case interuption\n",
    "                                 early_stop=5)             # If results don't improve over 5 generations then escape"
   ]
  },
  {
   "cell_type": "code",
   "execution_count": 17,
   "metadata": {},
   "outputs": [
    {
     "data": {
      "application/vnd.jupyter.widget-view+json": {
       "model_id": "cd1e25fd0b9c4a45adf66987ba5a9b44",
       "version_major": 2,
       "version_minor": 0
      },
      "text/plain": [
       "Optimization Progress:   0%|          | 0/1530 [00:00<?, ?pipeline/s]"
      ]
     },
     "metadata": {},
     "output_type": "display_data"
    },
    {
     "name": "stdout",
     "output_type": "stream",
     "text": [
      "\n",
      "Generation 1 - Current best internal CV score: 0.38202726757089955\n",
      "\n",
      "Generation 2 - Current best internal CV score: 0.3842497095372507\n",
      "\n",
      "Generation 3 - Current best internal CV score: 0.38634661528725023\n",
      "\n",
      "Generation 4 - Current best internal CV score: 0.39124281763484936\n",
      "\n",
      "Generation 5 - Current best internal CV score: 0.3930641196695883\n",
      "\n",
      "Generation 6 - Current best internal CV score: 0.39973478173615623\n",
      "\n",
      "Generation 7 - Current best internal CV score: 0.39973478173615623\n",
      "\n",
      "Generation 8 - Current best internal CV score: 0.39973478173615623\n",
      "\n",
      "Generation 9 - Current best internal CV score: 0.39973478173615623\n",
      "\n",
      "Generation 10 - Current best internal CV score: 0.40103172585779345\n",
      "\n",
      "Generation 11 - Current best internal CV score: 0.40213337527020776\n",
      "\n",
      "Generation 12 - Current best internal CV score: 0.4029053349765399\n",
      "\n",
      "Generation 13 - Current best internal CV score: 0.4056471334216575\n",
      "\n",
      "Generation 14 - Current best internal CV score: 0.4056471334216575\n",
      "\n",
      "Generation 15 - Current best internal CV score: 0.4056471334216575\n",
      "\n",
      "Generation 16 - Current best internal CV score: 0.4063620938827993\n",
      "\n",
      "Generation 17 - Current best internal CV score: 0.4063620938827993\n",
      "\n",
      "Generation 18 - Current best internal CV score: 0.4063620938827993\n",
      "\n",
      "Generation 19 - Current best internal CV score: 0.4094796109897835\n",
      "\n",
      "Generation 20 - Current best internal CV score: 0.4094796109897835\n",
      "\n",
      "Generation 21 - Current best internal CV score: 0.4094796109897835\n",
      "\n",
      "Generation 22 - Current best internal CV score: 0.4094796109897835\n",
      "\n",
      "Generation 23 - Current best internal CV score: 0.4094796109897835\n",
      "\n",
      "Generation 24 - Current best internal CV score: 0.4094796109897835\n",
      "\n",
      "The optimized pipeline was not improved after evaluating 5 more generations. Will end the optimization process.\n",
      "\n",
      "TPOT closed prematurely. Will use the current best pipeline.\n",
      "\n",
      "Best pipeline: XGBClassifier(BernoulliNB(BernoulliNB(input_matrix, alpha=0.1, fit_prior=False), alpha=0.1, fit_prior=False), learning_rate=0.1, max_depth=6, min_child_weight=3, n_estimators=100, n_jobs=1, subsample=0.5, verbosity=0)\n"
     ]
    },
    {
     "data": {
      "text/plain": [
       "TPOTClassifier(early_stop=5, generations=50, max_eval_time_mins=10,\n",
       "               memory='..\\\\models\\\\tpot', n_jobs=-1, population_size=30,\n",
       "               random_state=42, scoring='f1_weighted', verbosity=2)"
      ]
     },
     "execution_count": 17,
     "metadata": {},
     "output_type": "execute_result"
    }
   ],
   "source": [
    "tpot_classifier.fit(X_tfidf, y_train_le)"
   ]
  },
  {
   "cell_type": "code",
   "execution_count": 18,
   "metadata": {},
   "outputs": [],
   "source": [
    "# Saving best pipeline from TPOT\n",
    "tpot_classifier.export(path_to_tpot_model)"
   ]
  },
  {
   "cell_type": "markdown",
   "metadata": {},
   "source": [
    "# Evaluation"
   ]
  },
  {
   "cell_type": "code",
   "execution_count": 19,
   "metadata": {},
   "outputs": [],
   "source": [
    "# Processing X_test dataframe\n",
    "X_test = X_test['tokens_lemma'].apply(lambda x: ' '.join(x))\n",
    "X_test_tfidf = tfidf.transform(X_test).toarray()\n",
    "# Encoding test labels\n",
    "y_test_le = label_encoder.transform(y_test)"
   ]
  },
  {
   "cell_type": "code",
   "execution_count": 20,
   "metadata": {},
   "outputs": [
    {
     "data": {
      "text/plain": [
       "0.400685874207198"
      ]
     },
     "execution_count": 20,
     "metadata": {},
     "output_type": "execute_result"
    }
   ],
   "source": [
    "tpot_classifier.score(X_test_tfidf, y_test_le)"
   ]
  }
 ],
 "metadata": {
  "kernelspec": {
   "display_name": "gauss_spotify",
   "language": "python",
   "name": "gauss_spotify"
  },
  "language_info": {
   "codemirror_mode": {
    "name": "ipython",
    "version": 3
   },
   "file_extension": ".py",
   "mimetype": "text/x-python",
   "name": "python",
   "nbconvert_exporter": "python",
   "pygments_lexer": "ipython3",
   "version": "3.9.7"
  },
  "toc": {
   "base_numbering": 1,
   "nav_menu": {},
   "number_sections": true,
   "sideBar": true,
   "skip_h1_title": false,
   "title_cell": "Table of Contents",
   "title_sidebar": "Contents",
   "toc_cell": false,
   "toc_position": {},
   "toc_section_display": true,
   "toc_window_display": false
  }
 },
 "nbformat": 4,
 "nbformat_minor": 2
}
