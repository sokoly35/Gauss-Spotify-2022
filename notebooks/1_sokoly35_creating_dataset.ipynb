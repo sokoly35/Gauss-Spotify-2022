{
 "cells": [
  {
   "cell_type": "markdown",
   "metadata": {},
   "source": [
    "# Setup"
   ]
  },
  {
   "cell_type": "code",
   "execution_count": 1,
   "metadata": {},
   "outputs": [],
   "source": [
    "from dotenv import load_dotenv\n",
    "import os\n",
    "import spotipy\n",
    "from lyricsgenius import Genius\n",
    "from spotipy.oauth2 import SpotifyClientCredentials\n",
    "import sys\n",
    "\n",
    "# Setting the working directory\n",
    "sys.path.insert(0,'..')\n",
    "\n",
    "from src.data.make_dataset import create_dataset"
   ]
  },
  {
   "cell_type": "code",
   "execution_count": 2,
   "metadata": {},
   "outputs": [],
   "source": [
    "# Loading credentials to Spotify and Genius API from .env file\n",
    "dotenv_path = os.path.join('..', '.env')\n",
    "load_dotenv(dotenv_path)\n",
    "\n",
    "SPOTIFY_API_CLIENT_ID = os.getenv('SPOTIFY_API_CLIENT_ID')\n",
    "SPOTIFY_API_CLIENT_SECRET = os.getenv('SPOTIFY_API_CLIENT_SECRET')\n",
    "GENIUS_ACCESS_TOKEN = os.getenv('GENIUS_ACCESS_TOKEN')"
   ]
  },
  {
   "cell_type": "code",
   "execution_count": 2,
   "metadata": {},
   "outputs": [],
   "source": [
    "# Path to save results\n",
    "path_to_save_df = os.path.join('..', 'data', 'raw', 'data.csv')"
   ]
  },
  {
   "cell_type": "code",
   "execution_count": 4,
   "metadata": {},
   "outputs": [],
   "source": [
    "# Connecting to spotify API\n",
    "client_credentials_manager = SpotifyClientCredentials(client_id=SPOTIFY_API_CLIENT_ID,\n",
    "                                                      client_secret=SPOTIFY_API_CLIENT_SECRET)\n",
    "sp = spotipy.Spotify(auth_manager=client_credentials_manager)"
   ]
  },
  {
   "cell_type": "code",
   "execution_count": 5,
   "metadata": {},
   "outputs": [],
   "source": [
    "# Connecting to Genius API\n",
    "genius = Genius(GENIUS_ACCESS_TOKEN, timeout=10, retries=5)\n",
    "genius.verbose = False\n",
    "genius.remove_section_headers = True"
   ]
  },
  {
   "cell_type": "code",
   "execution_count": 6,
   "metadata": {},
   "outputs": [],
   "source": [
    "# Selecting 10 subjectively most popular music genre\n",
    "# From lsit generated with function below\n",
    "\n",
    "# sp.recommendation_genre_seeds()"
   ]
  },
  {
   "cell_type": "code",
   "execution_count": 7,
   "metadata": {},
   "outputs": [],
   "source": [
    "chosen_genres_10 = ['blues', 'country', 'disco', 'hip-hop',\n",
    "                   'pop', 'punk', 'reggae', 'rock', 'r-n-b', 'jazz']"
   ]
  },
  {
   "cell_type": "markdown",
   "metadata": {},
   "source": [
    "# Scraping data"
   ]
  },
  {
   "cell_type": "markdown",
   "metadata": {},
   "source": [
    "## Example"
   ]
  },
  {
   "cell_type": "code",
   "execution_count": 8,
   "metadata": {},
   "outputs": [
    {
     "name": "stdout",
     "output_type": "stream",
     "text": [
      "Number of scraped samples: 0/60\n",
      "Number of scraped samples: 3/60. Time: 0.04 min\n",
      "Number of scraped samples: 6/60. Time: 0.03 min\n",
      "Number of scraped samples: 9/60. Time: 0.03 min\n",
      "Number of scraped samples: 12/60. Time: 0.03 min\n",
      "Number of scraped samples: 15/60. Time: 0.04 min\n",
      "Number of scraped samples: 18/60. Time: 0.09 min\n",
      "Number of scraped samples: 21/60. Time: 0.10 min\n",
      "Number of scraped samples: 24/60. Time: 0.05 min\n",
      "Number of scraped samples: 27/60. Time: 0.05 min\n",
      "Number of scraped samples: 30/60. Time: 0.04 min\n",
      "Number of scraped samples: 33/60. Time: 0.05 min\n",
      "Number of scraped samples: 36/60. Time: 0.04 min\n",
      "Number of scraped samples: 39/60. Time: 0.08 min\n",
      "Number of scraped samples: 42/60. Time: 0.04 min\n",
      "Number of scraped samples: 45/60. Time: 0.05 min\n",
      "Number of scraped samples: 48/60. Time: 0.04 min\n",
      "Number of scraped samples: 51/60. Time: 0.05 min\n",
      "Number of scraped samples: 54/60. Time: 0.04 min\n",
      "Number of scraped samples: 57/60. Time: 0.05 min\n",
      "Number of scraped samples: 60/60. Time: 0.04 min\n"
     ]
    }
   ],
   "source": [
    "df = create_dataset(chosen_genres_10, sp, genius, \n",
    "              limit=3, \n",
    "              how_many_in_genre=6,\n",
    "              sleep_time=0)"
   ]
  },
  {
   "cell_type": "code",
   "execution_count": 9,
   "metadata": {},
   "outputs": [
    {
     "data": {
      "text/html": [
       "<div>\n",
       "<style scoped>\n",
       "    .dataframe tbody tr th:only-of-type {\n",
       "        vertical-align: middle;\n",
       "    }\n",
       "\n",
       "    .dataframe tbody tr th {\n",
       "        vertical-align: top;\n",
       "    }\n",
       "\n",
       "    .dataframe thead th {\n",
       "        text-align: right;\n",
       "    }\n",
       "</style>\n",
       "<table border=\"1\" class=\"dataframe\">\n",
       "  <thead>\n",
       "    <tr style=\"text-align: right;\">\n",
       "      <th></th>\n",
       "      <th>artist_name</th>\n",
       "      <th>track_name</th>\n",
       "      <th>popularity</th>\n",
       "      <th>genre</th>\n",
       "      <th>lyrics</th>\n",
       "    </tr>\n",
       "  </thead>\n",
       "  <tbody>\n",
       "    <tr>\n",
       "      <th>0</th>\n",
       "      <td>Cage The Elephant</td>\n",
       "      <td>Cigarette Daydreams</td>\n",
       "      <td>80</td>\n",
       "      <td>punk</td>\n",
       "      <td>Did you stand there all alone?\\nOh, I cannot e...</td>\n",
       "    </tr>\n",
       "    <tr>\n",
       "      <th>1</th>\n",
       "      <td>Lil Nas X</td>\n",
       "      <td>INDUSTRY BABY (feat. Jack Harlow)</td>\n",
       "      <td>96</td>\n",
       "      <td>hip-hop</td>\n",
       "      <td>(D-D-Daytrip took it to ten, hey)\\nBaby back, ...</td>\n",
       "    </tr>\n",
       "    <tr>\n",
       "      <th>2</th>\n",
       "      <td>Michael Bublé</td>\n",
       "      <td>Holly Jolly Christmas</td>\n",
       "      <td>86</td>\n",
       "      <td>jazz</td>\n",
       "      <td>Have a holly, jolly Christmas\\nIt's the best t...</td>\n",
       "    </tr>\n",
       "    <tr>\n",
       "      <th>3</th>\n",
       "      <td>Commodores</td>\n",
       "      <td>Easy</td>\n",
       "      <td>76</td>\n",
       "      <td>disco</td>\n",
       "      <td>I know it sounds funny, but I just can't stand...</td>\n",
       "    </tr>\n",
       "    <tr>\n",
       "      <th>4</th>\n",
       "      <td>Luke Combs</td>\n",
       "      <td>Forever After All</td>\n",
       "      <td>80</td>\n",
       "      <td>country</td>\n",
       "      <td>A cold beer's got twelve ounces\\nA good truck'...</td>\n",
       "    </tr>\n",
       "  </tbody>\n",
       "</table>\n",
       "</div>"
      ],
      "text/plain": [
       "         artist_name                         track_name  popularity    genre  \\\n",
       "0  Cage The Elephant                Cigarette Daydreams          80     punk   \n",
       "1          Lil Nas X  INDUSTRY BABY (feat. Jack Harlow)          96  hip-hop   \n",
       "2      Michael Bublé              Holly Jolly Christmas          86     jazz   \n",
       "3         Commodores                               Easy          76    disco   \n",
       "4         Luke Combs                  Forever After All          80  country   \n",
       "\n",
       "                                              lyrics  \n",
       "0  Did you stand there all alone?\\nOh, I cannot e...  \n",
       "1  (D-D-Daytrip took it to ten, hey)\\nBaby back, ...  \n",
       "2  Have a holly, jolly Christmas\\nIt's the best t...  \n",
       "3  I know it sounds funny, but I just can't stand...  \n",
       "4  A cold beer's got twelve ounces\\nA good truck'...  "
      ]
     },
     "execution_count": 9,
     "metadata": {},
     "output_type": "execute_result"
    }
   ],
   "source": [
    "df.head()"
   ]
  },
  {
   "cell_type": "code",
   "execution_count": 10,
   "metadata": {},
   "outputs": [
    {
     "name": "stdout",
     "output_type": "stream",
     "text": [
      "<class 'pandas.core.frame.DataFrame'>\n",
      "Int64Index: 60 entries, 0 to 59\n",
      "Data columns (total 5 columns):\n",
      " #   Column       Non-Null Count  Dtype \n",
      "---  ------       --------------  ----- \n",
      " 0   artist_name  60 non-null     object\n",
      " 1   track_name   60 non-null     object\n",
      " 2   popularity   60 non-null     int64 \n",
      " 3   genre        60 non-null     object\n",
      " 4   lyrics       60 non-null     object\n",
      "dtypes: int64(1), object(4)\n",
      "memory usage: 2.8+ KB\n"
     ]
    }
   ],
   "source": [
    "df.info()"
   ]
  },
  {
   "cell_type": "markdown",
   "metadata": {},
   "source": [
    "## Final data frame"
   ]
  },
  {
   "cell_type": "markdown",
   "metadata": {},
   "source": [
    "We will scrape data from 10 popular music genres. For each genre there will be maximum 1 000 unique observations. Carefully it can took some time until function ends."
   ]
  },
  {
   "cell_type": "code",
   "execution_count": 11,
   "metadata": {},
   "outputs": [],
   "source": [
    "df = create_dataset(chosen_genres_10, sp, genius, \n",
    "              limit=50, \n",
    "              how_many_in_genre=1_000,\n",
    "              sleep_time=10,\n",
    "              path_to_save=path_to_save_df,\n",
    "              verbose=False)"
   ]
  }
 ],
 "metadata": {
  "kernelspec": {
   "display_name": "gauss_spotify",
   "language": "python",
   "name": "gauss_spotify"
  },
  "language_info": {
   "codemirror_mode": {
    "name": "ipython",
    "version": 3
   },
   "file_extension": ".py",
   "mimetype": "text/x-python",
   "name": "python",
   "nbconvert_exporter": "python",
   "pygments_lexer": "ipython3",
   "version": "3.9.7"
  },
  "toc": {
   "base_numbering": 1,
   "nav_menu": {},
   "number_sections": true,
   "sideBar": true,
   "skip_h1_title": false,
   "title_cell": "Table of Contents",
   "title_sidebar": "Contents",
   "toc_cell": false,
   "toc_position": {},
   "toc_section_display": true,
   "toc_window_display": false
  }
 },
 "nbformat": 4,
 "nbformat_minor": 2
}
