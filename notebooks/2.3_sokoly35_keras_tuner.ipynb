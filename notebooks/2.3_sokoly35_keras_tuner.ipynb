{
 "cells": [
  {
   "cell_type": "markdown",
   "metadata": {},
   "source": [
    "# Setup and Data Import"
   ]
  },
  {
   "cell_type": "code",
   "execution_count": 51,
   "metadata": {},
   "outputs": [],
   "source": [
    "import sys\n",
    "import os\n",
    "\n",
    "import seaborn as sns\n",
    "import matplotlib\n",
    "import matplotlib.pyplot as plt\n",
    "import numpy as np\n",
    "import pandas as pd\n",
    "from sklearn.model_selection import train_test_split\n",
    "from sklearn.preprocessing import LabelEncoder, OneHotEncoder\n",
    "from sklearn.metrics import classification_report\n",
    "\n",
    "sys.path.insert(0,'..')\n",
    "from src.data.make_dataset import read_main_df"
   ]
  },
  {
   "cell_type": "code",
   "execution_count": 2,
   "metadata": {},
   "outputs": [],
   "source": [
    "sns.set()\n",
    "matplotlib.rcParams['figure.figsize'] = (13, 7)"
   ]
  },
  {
   "cell_type": "code",
   "execution_count": 3,
   "metadata": {},
   "outputs": [],
   "source": [
    "# Path to dataframe\n",
    "path_to_data = os.path.join('..', 'data', 'interim', 'prepared_data_Kamila.csv')\n",
    "\n",
    "# reading dataframe\n",
    "df = read_main_df(path_to_data,\n",
    "                 drop_columns=['language'],\n",
    "                 unstructured_columns=['tokens', 'entities', 'pos_tokens', 'tokens_lemma'])"
   ]
  },
  {
   "cell_type": "code",
   "execution_count": 4,
   "metadata": {},
   "outputs": [
    {
     "data": {
      "text/html": [
       "<div>\n",
       "<style scoped>\n",
       "    .dataframe tbody tr th:only-of-type {\n",
       "        vertical-align: middle;\n",
       "    }\n",
       "\n",
       "    .dataframe tbody tr th {\n",
       "        vertical-align: top;\n",
       "    }\n",
       "\n",
       "    .dataframe thead th {\n",
       "        text-align: right;\n",
       "    }\n",
       "</style>\n",
       "<table border=\"1\" class=\"dataframe\">\n",
       "  <thead>\n",
       "    <tr style=\"text-align: right;\">\n",
       "      <th></th>\n",
       "      <th>artist_name</th>\n",
       "      <th>track_name</th>\n",
       "      <th>popularity</th>\n",
       "      <th>genre</th>\n",
       "      <th>lyrics</th>\n",
       "      <th>tokens</th>\n",
       "      <th>entities</th>\n",
       "      <th>pos_tokens</th>\n",
       "      <th>tokens_lemma</th>\n",
       "    </tr>\n",
       "  </thead>\n",
       "  <tbody>\n",
       "    <tr>\n",
       "      <th>0</th>\n",
       "      <td>James Bay</td>\n",
       "      <td>Let It Go</td>\n",
       "      <td>73</td>\n",
       "      <td>rock</td>\n",
       "      <td>From walking home and talking loads To seeing ...</td>\n",
       "      <td>[walking, home, talking, loads, seeing, shows,...</td>\n",
       "      <td>{'evening': 'TIME', 'Tryna': 'PERSON', 'Cause'...</td>\n",
       "      <td>[(walking, v), (home, n), (talking, v), (loads...</td>\n",
       "      <td>[walk, home, talk, load, see, show, even, clot...</td>\n",
       "    </tr>\n",
       "    <tr>\n",
       "      <th>1</th>\n",
       "      <td>Bonobo</td>\n",
       "      <td>From You</td>\n",
       "      <td>67</td>\n",
       "      <td>jazz</td>\n",
       "      <td>Gone like changing seasons Alright alright You...</td>\n",
       "      <td>[gone, like, changing, seasons, alright, alrig...</td>\n",
       "      <td>{}</td>\n",
       "      <td>[(gone, v), (like, n), (changing, v), (seasons...</td>\n",
       "      <td>[go, like, change, season, alright, alright, s...</td>\n",
       "    </tr>\n",
       "    <tr>\n",
       "      <th>2</th>\n",
       "      <td>Lee Brice</td>\n",
       "      <td>One Of Them Girls</td>\n",
       "      <td>69</td>\n",
       "      <td>country</td>\n",
       "      <td>Are you one of them girls that peels off the B...</td>\n",
       "      <td>[one, girls, peels, bud, light, label, might, ...</td>\n",
       "      <td>{'Kinda': 'PERSON', 'one': 'CARDINAL', 'all ni...</td>\n",
       "      <td>[(one, n), (girls, n), (peels, n), (bud, v), (...</td>\n",
       "      <td>[one, girl, peel, bud, light, label, might, ru...</td>\n",
       "    </tr>\n",
       "    <tr>\n",
       "      <th>3</th>\n",
       "      <td>Andy Gibb</td>\n",
       "      <td>I Just Want To Be Your Everything</td>\n",
       "      <td>62</td>\n",
       "      <td>disco</td>\n",
       "      <td>For so long You and me been finding each other...</td>\n",
       "      <td>[long, finding, long, feeling, feel, strong, g...</td>\n",
       "      <td>{'Build': 'FAC'}</td>\n",
       "      <td>[(long, r), (finding, v), (long, r), (feeling,...</td>\n",
       "      <td>[long, find, long, feel, feel, strong, girl, t...</td>\n",
       "    </tr>\n",
       "    <tr>\n",
       "      <th>4</th>\n",
       "      <td>Earth, Wind &amp; Fire</td>\n",
       "      <td>You Want My Love</td>\n",
       "      <td>61</td>\n",
       "      <td>jazz</td>\n",
       "      <td>You ain t gotta say much I can tell that love ...</td>\n",
       "      <td>[got, ta, say, much, tell, love, means, someth...</td>\n",
       "      <td>{'Don': 'PERSON', 'Lies': 'PERSON'}</td>\n",
       "      <td>[(got, v), (ta, n), (say, v), (much, r), (tell...</td>\n",
       "      <td>[get, ta, say, much, tell, love, mean, somethi...</td>\n",
       "    </tr>\n",
       "  </tbody>\n",
       "</table>\n",
       "</div>"
      ],
      "text/plain": [
       "          artist_name                         track_name  popularity    genre  \\\n",
       "0           James Bay                          Let It Go          73     rock   \n",
       "1              Bonobo                           From You          67     jazz   \n",
       "2           Lee Brice                  One Of Them Girls          69  country   \n",
       "3           Andy Gibb  I Just Want To Be Your Everything          62    disco   \n",
       "4  Earth, Wind & Fire                   You Want My Love          61     jazz   \n",
       "\n",
       "                                              lyrics  \\\n",
       "0  From walking home and talking loads To seeing ...   \n",
       "1  Gone like changing seasons Alright alright You...   \n",
       "2  Are you one of them girls that peels off the B...   \n",
       "3  For so long You and me been finding each other...   \n",
       "4  You ain t gotta say much I can tell that love ...   \n",
       "\n",
       "                                              tokens  \\\n",
       "0  [walking, home, talking, loads, seeing, shows,...   \n",
       "1  [gone, like, changing, seasons, alright, alrig...   \n",
       "2  [one, girls, peels, bud, light, label, might, ...   \n",
       "3  [long, finding, long, feeling, feel, strong, g...   \n",
       "4  [got, ta, say, much, tell, love, means, someth...   \n",
       "\n",
       "                                            entities  \\\n",
       "0  {'evening': 'TIME', 'Tryna': 'PERSON', 'Cause'...   \n",
       "1                                                 {}   \n",
       "2  {'Kinda': 'PERSON', 'one': 'CARDINAL', 'all ni...   \n",
       "3                                   {'Build': 'FAC'}   \n",
       "4                {'Don': 'PERSON', 'Lies': 'PERSON'}   \n",
       "\n",
       "                                          pos_tokens  \\\n",
       "0  [(walking, v), (home, n), (talking, v), (loads...   \n",
       "1  [(gone, v), (like, n), (changing, v), (seasons...   \n",
       "2  [(one, n), (girls, n), (peels, n), (bud, v), (...   \n",
       "3  [(long, r), (finding, v), (long, r), (feeling,...   \n",
       "4  [(got, v), (ta, n), (say, v), (much, r), (tell...   \n",
       "\n",
       "                                        tokens_lemma  \n",
       "0  [walk, home, talk, load, see, show, even, clot...  \n",
       "1  [go, like, change, season, alright, alright, s...  \n",
       "2  [one, girl, peel, bud, light, label, might, ru...  \n",
       "3  [long, find, long, feel, feel, strong, girl, t...  \n",
       "4  [get, ta, say, much, tell, love, mean, somethi...  "
      ]
     },
     "execution_count": 4,
     "metadata": {},
     "output_type": "execute_result"
    }
   ],
   "source": [
    "df.head()"
   ]
  },
  {
   "cell_type": "code",
   "execution_count": 53,
   "metadata": {},
   "outputs": [],
   "source": [
    "# Splitting set to train and test sets\n",
    "X_train, X_test, y_train, y_test = train_test_split(df.loc[:, 'tokens_lemma'], df['genre'],\n",
    "                                                    random_state=7, stratify=df['genre'], test_size=0.2)"
   ]
  },
  {
   "cell_type": "code",
   "execution_count": 112,
   "metadata": {},
   "outputs": [],
   "source": [
    "onehot = OneHotEncoder(sparse=False)\n",
    "y_train_oh = onehot.fit_transform(y_train.to_frame())\n",
    "y_test_oh = onehot.transform(y_test.to_frame())"
   ]
  },
  {
   "cell_type": "markdown",
   "metadata": {},
   "source": [
    "# Data analysis"
   ]
  },
  {
   "cell_type": "code",
   "execution_count": 7,
   "metadata": {},
   "outputs": [
    {
     "data": {
      "image/png": "[encoded data removed]",
      "text/plain": [
       "<Figure size 936x504 with 1 Axes>"
      ]
     },
     "metadata": {},
     "output_type": "display_data"
    }
   ],
   "source": [
    "sns.countplot(x=y_train)\n",
    "plt.show()"
   ]
  },
  {
   "cell_type": "code",
   "execution_count": 8,
   "metadata": {},
   "outputs": [
    {
     "data": {
      "text/html": [
       "<div>\n",
       "<style scoped>\n",
       "    .dataframe tbody tr th:only-of-type {\n",
       "        vertical-align: middle;\n",
       "    }\n",
       "\n",
       "    .dataframe tbody tr th {\n",
       "        vertical-align: top;\n",
       "    }\n",
       "\n",
       "    .dataframe thead th {\n",
       "        text-align: right;\n",
       "    }\n",
       "</style>\n",
       "<table border=\"1\" class=\"dataframe\">\n",
       "  <thead>\n",
       "    <tr style=\"text-align: right;\">\n",
       "      <th></th>\n",
       "      <th>tokens_lemma</th>\n",
       "    </tr>\n",
       "  </thead>\n",
       "  <tbody>\n",
       "    <tr>\n",
       "      <th>count</th>\n",
       "      <td>5028.000000</td>\n",
       "    </tr>\n",
       "    <tr>\n",
       "      <th>mean</th>\n",
       "      <td>544.133453</td>\n",
       "    </tr>\n",
       "    <tr>\n",
       "      <th>std</th>\n",
       "      <td>3363.493677</td>\n",
       "    </tr>\n",
       "    <tr>\n",
       "      <th>min</th>\n",
       "      <td>9.000000</td>\n",
       "    </tr>\n",
       "    <tr>\n",
       "      <th>10%</th>\n",
       "      <td>76.000000</td>\n",
       "    </tr>\n",
       "    <tr>\n",
       "      <th>20%</th>\n",
       "      <td>97.000000</td>\n",
       "    </tr>\n",
       "    <tr>\n",
       "      <th>30%</th>\n",
       "      <td>116.000000</td>\n",
       "    </tr>\n",
       "    <tr>\n",
       "      <th>40%</th>\n",
       "      <td>134.000000</td>\n",
       "    </tr>\n",
       "    <tr>\n",
       "      <th>50%</th>\n",
       "      <td>152.000000</td>\n",
       "    </tr>\n",
       "    <tr>\n",
       "      <th>60%</th>\n",
       "      <td>173.000000</td>\n",
       "    </tr>\n",
       "    <tr>\n",
       "      <th>70%</th>\n",
       "      <td>203.000000</td>\n",
       "    </tr>\n",
       "    <tr>\n",
       "      <th>80%</th>\n",
       "      <td>253.000000</td>\n",
       "    </tr>\n",
       "    <tr>\n",
       "      <th>90%</th>\n",
       "      <td>363.300000</td>\n",
       "    </tr>\n",
       "    <tr>\n",
       "      <th>max</th>\n",
       "      <td>106584.000000</td>\n",
       "    </tr>\n",
       "  </tbody>\n",
       "</table>\n",
       "</div>"
      ],
      "text/plain": [
       "        tokens_lemma\n",
       "count    5028.000000\n",
       "mean      544.133453\n",
       "std      3363.493677\n",
       "min         9.000000\n",
       "10%        76.000000\n",
       "20%        97.000000\n",
       "30%       116.000000\n",
       "40%       134.000000\n",
       "50%       152.000000\n",
       "60%       173.000000\n",
       "70%       203.000000\n",
       "80%       253.000000\n",
       "90%       363.300000\n",
       "max    106584.000000"
      ]
     },
     "execution_count": 8,
     "metadata": {},
     "output_type": "execute_result"
    }
   ],
   "source": [
    "temp = X_train.apply(len)\n",
    "\n",
    "temp.to_frame().describe(percentiles=np.linspace(0.1, 0.9, 9))"
   ]
  },
  {
   "cell_type": "code",
   "execution_count": 9,
   "metadata": {},
   "outputs": [
    {
     "name": "stdout",
     "output_type": "stream",
     "text": [
      "Number of observations with more than 1000 words: 182\n"
     ]
    }
   ],
   "source": [
    "n = (temp > 1000).sum()\n",
    "print(f\"Number of observations with more than 1000 words: {n}\")"
   ]
  },
  {
   "cell_type": "code",
   "execution_count": 10,
   "metadata": {},
   "outputs": [
    {
     "name": "stdout",
     "output_type": "stream",
     "text": [
      "Number of unique vocabulary in train set: 627\n"
     ]
    }
   ],
   "source": [
    "n_vocab = len(set(X_train.apply(lambda x: ' '.join(set(x))).sum()))\n",
    "print(f'Number of unique vocabulary in train set: {n_vocab}')"
   ]
  },
  {
   "cell_type": "markdown",
   "metadata": {},
   "source": [
    "# Processing text"
   ]
  },
  {
   "cell_type": "code",
   "execution_count": 11,
   "metadata": {},
   "outputs": [],
   "source": [
    "import keras_tuner as kt\n",
    "from tensorflow import keras\n",
    "from tensorflow.keras.preprocessing.text import Tokenizer\n",
    "from tensorflow.keras.preprocessing.sequence import pad_sequences"
   ]
  },
  {
   "cell_type": "code",
   "execution_count": 12,
   "metadata": {},
   "outputs": [],
   "source": [
    "num_words = 700\n",
    "max_len = 1000\n",
    "oov_token = '<UNK>'\n",
    "pad_type = 'post'\n",
    "trunc_type = 'post'"
   ]
  },
  {
   "cell_type": "code",
   "execution_count": 13,
   "metadata": {},
   "outputs": [],
   "source": [
    "# Tokenize our training data\n",
    "tokenizer = Tokenizer(num_words=num_words, oov_token=oov_token)\n",
    "tokenizer.fit_on_texts(X_train)\n",
    "\n",
    "# Get our training data word index\n",
    "word_index = tokenizer.word_index\n",
    "\n",
    "# Encode training data sentences into sequences\n",
    "train_sequences = tokenizer.texts_to_sequences(X_train)\n",
    "\n",
    "# Pad the training sequences\n",
    "train_padded = pad_sequences(train_sequences, padding=pad_type, truncating=trunc_type, maxlen=max_len)"
   ]
  },
  {
   "cell_type": "markdown",
   "metadata": {},
   "source": [
    "# Modeling"
   ]
  },
  {
   "cell_type": "code",
   "execution_count": 97,
   "metadata": {},
   "outputs": [],
   "source": [
    "import tensorflow as tf\n",
    "from keras.layers import Embedding, Dropout, GlobalAveragePooling1D, Dense, LSTM, Conv1D, Flatten, MaxPooling1D, Input\n",
    "from tensorflow.keras import Sequential, Model\n",
    "from keras.layers.merge import concatenate"
   ]
  },
  {
   "cell_type": "code",
   "execution_count": 47,
   "metadata": {},
   "outputs": [
    {
     "name": "stdout",
     "output_type": "stream",
     "text": [
      "Model: \"sequential_3\"\n",
      "_________________________________________________________________\n",
      " Layer (type)                Output Shape              Param #   \n",
      "=================================================================\n",
      " embedding_3 (Embedding)     (None, None, 40)          40040     \n",
      "                                                                 \n",
      " dropout_11 (Dropout)        (None, None, 40)          0         \n",
      "                                                                 \n",
      " global_average_pooling1d_3   (None, 40)               0         \n",
      " (GlobalAveragePooling1D)                                        \n",
      "                                                                 \n",
      " dropout_12 (Dropout)        (None, 40)                0         \n",
      "                                                                 \n",
      " dense_8 (Dense)             (None, 100)               4100      \n",
      "                                                                 \n",
      " dropout_13 (Dropout)        (None, 100)               0         \n",
      "                                                                 \n",
      " dense_9 (Dense)             (None, 100)               10100     \n",
      "                                                                 \n",
      " dropout_14 (Dropout)        (None, 100)               0         \n",
      "                                                                 \n",
      " dense_10 (Dense)            (None, 10)                1010      \n",
      "                                                                 \n",
      "=================================================================\n",
      "Total params: 55,250\n",
      "Trainable params: 55,250\n",
      "Non-trainable params: 0\n",
      "_________________________________________________________________\n"
     ]
    }
   ],
   "source": [
    "embedding_dim = 40\n",
    "\n",
    "model = Sequential([\n",
    "  Embedding(max_len + 1, embedding_dim),\n",
    "  Dropout(0.2),\n",
    "  GlobalAveragePooling1D(),\n",
    "  Dropout(0.2),\n",
    "  Dense(100, activation='elu'),\n",
    "  Dropout(0.2),\n",
    "  Dense(100, activation='elu'),\n",
    "  Dropout(0.2),\n",
    "  Dense(10)])\n",
    "\n",
    "model.summary()"
   ]
  },
  {
   "cell_type": "code",
   "execution_count": 48,
   "metadata": {},
   "outputs": [],
   "source": [
    "model.compile(loss=tf.losses.SparseCategoricalCrossentropy(from_logits=True),\n",
    "              optimizer='adam',\n",
    "              metrics=['accuracy'])"
   ]
  },
  {
   "cell_type": "code",
   "execution_count": 49,
   "metadata": {},
   "outputs": [
    {
     "name": "stdout",
     "output_type": "stream",
     "text": [
      "Epoch 1/13\n",
      "252/252 [==============================] - 3s 10ms/step - loss: 2.2081 - accuracy: 0.1509 - val_loss: 2.1482 - val_accuracy: 0.2535\n",
      "Epoch 2/13\n",
      "252/252 [==============================] - 3s 10ms/step - loss: 2.1426 - accuracy: 0.2056 - val_loss: 2.0854 - val_accuracy: 0.2575\n",
      "Epoch 3/13\n",
      "252/252 [==============================] - 2s 9ms/step - loss: 2.0653 - accuracy: 0.2312 - val_loss: 2.0256 - val_accuracy: 0.2565\n",
      "Epoch 4/13\n",
      "252/252 [==============================] - 3s 10ms/step - loss: 2.0233 - accuracy: 0.2444 - val_loss: 2.0149 - val_accuracy: 0.2485\n",
      "Epoch 5/13\n",
      "252/252 [==============================] - 2s 9ms/step - loss: 1.9922 - accuracy: 0.2558 - val_loss: 1.9858 - val_accuracy: 0.2575\n",
      "Epoch 6/13\n",
      "252/252 [==============================] - 3s 10ms/step - loss: 1.9486 - accuracy: 0.2785 - val_loss: 1.9687 - val_accuracy: 0.2535\n",
      "Epoch 7/13\n",
      "252/252 [==============================] - 2s 10ms/step - loss: 1.8892 - accuracy: 0.3247 - val_loss: 1.9284 - val_accuracy: 0.3151\n",
      "Epoch 8/13\n",
      "252/252 [==============================] - 3s 12ms/step - loss: 1.8287 - accuracy: 0.3471 - val_loss: 1.8776 - val_accuracy: 0.3459\n",
      "Epoch 9/13\n",
      "252/252 [==============================] - 2s 10ms/step - loss: 1.7856 - accuracy: 0.3628 - val_loss: 1.8861 - val_accuracy: 0.3380\n",
      "Epoch 10/13\n",
      "252/252 [==============================] - 2s 10ms/step - loss: 1.7575 - accuracy: 0.3712 - val_loss: 1.8833 - val_accuracy: 0.3290\n",
      "Epoch 11/13\n",
      "252/252 [==============================] - 2s 10ms/step - loss: 1.7216 - accuracy: 0.3976 - val_loss: 1.8835 - val_accuracy: 0.3449\n",
      "Epoch 12/13\n",
      "252/252 [==============================] - 2s 10ms/step - loss: 1.6993 - accuracy: 0.4015 - val_loss: 1.8532 - val_accuracy: 0.3877\n",
      "Epoch 13/13\n",
      "252/252 [==============================] - 2s 10ms/step - loss: 1.6625 - accuracy: 0.4115 - val_loss: 1.8624 - val_accuracy: 0.3837\n"
     ]
    }
   ],
   "source": [
    "epochs = 13\n",
    "history = model.fit(\n",
    "    train_padded,\n",
    "    y_train_le,\n",
    "    validation_split=0.2,\n",
    "    batch_size=16,\n",
    "    epochs=epochs,\n",
    "    shuffle=True)"
   ]
  },
  {
   "cell_type": "code",
   "execution_count": 50,
   "metadata": {},
   "outputs": [
    {
     "data": {
      "text/plain": [
       "dict_keys(['loss', 'accuracy', 'val_loss', 'val_accuracy'])"
      ]
     },
     "execution_count": 50,
     "metadata": {},
     "output_type": "execute_result"
    }
   ],
   "source": [
    "history_dict = history.history\n",
    "history_dict.keys()"
   ]
  },
  {
   "cell_type": "code",
   "execution_count": 51,
   "metadata": {},
   "outputs": [
    {
     "data": {
      "image/png": "[encoded data removed]",
      "text/plain": [
       "<Figure size 936x504 with 1 Axes>"
      ]
     },
     "metadata": {},
     "output_type": "display_data"
    }
   ],
   "source": [
    "acc = history_dict['accuracy']\n",
    "val_acc = history_dict['val_accuracy']\n",
    "loss = history_dict['loss']\n",
    "val_loss = history_dict['val_loss']\n",
    "\n",
    "epochs = range(1, len(acc) + 1)\n",
    "\n",
    "# \"bo\" is for \"blue dot\"\n",
    "plt.plot(epochs, loss, 'bo', label='Training loss')\n",
    "# b is for \"solid blue line\"\n",
    "plt.plot(epochs, val_loss, 'b', label='Validation loss')\n",
    "plt.title('Training and validation loss')\n",
    "plt.xlabel('Epochs')\n",
    "plt.ylabel('Loss')\n",
    "plt.legend()\n",
    "\n",
    "plt.show()"
   ]
  },
  {
   "cell_type": "code",
   "execution_count": 52,
   "metadata": {},
   "outputs": [
    {
     "data": {
      "image/png": "[encoded data removed]",
      "text/plain": [
       "<Figure size 936x504 with 1 Axes>"
      ]
     },
     "metadata": {},
     "output_type": "display_data"
    }
   ],
   "source": [
    "plt.plot(epochs, acc, 'bo', label='Training acc')\n",
    "plt.plot(epochs, val_acc, 'b', label='Validation acc')\n",
    "plt.title('Training and validation accuracy')\n",
    "plt.xlabel('Epochs')\n",
    "plt.ylabel('Accuracy')\n",
    "plt.legend(loc='lower right')\n",
    "\n",
    "plt.show()"
   ]
  },
  {
   "cell_type": "markdown",
   "metadata": {},
   "source": [
    "- https://www.tensorflow.org/tutorials/keras/keras_tuner\n",
    "- https://medium.com/nwamaka-imasogie/neural-networks-word-embeddings-8ec8b3845b2e"
   ]
  },
  {
   "cell_type": "code",
   "execution_count": 53,
   "metadata": {},
   "outputs": [],
   "source": [
    "# Encode training data sentences into sequences\n",
    "test_sequences = tokenizer.texts_to_sequences(X_test)\n",
    "\n",
    "# Pad the training sequences\n",
    "test_padded = pad_sequences(test_sequences, padding=pad_type, truncating=trunc_type, maxlen=max_len)"
   ]
  },
  {
   "cell_type": "code",
   "execution_count": 54,
   "metadata": {},
   "outputs": [],
   "source": [
    "preds = model.predict(test_padded)"
   ]
  },
  {
   "cell_type": "code",
   "execution_count": 61,
   "metadata": {},
   "outputs": [],
   "source": [
    "preds = np.argmax(preds, axis=1)"
   ]
  },
  {
   "cell_type": "code",
   "execution_count": 63,
   "metadata": {},
   "outputs": [
    {
     "name": "stdout",
     "output_type": "stream",
     "text": [
      "              precision    recall  f1-score   support\n",
      "\n",
      "           0       0.23      0.11      0.14       141\n",
      "           1       0.41      0.60      0.49       167\n",
      "           2       0.43      0.35      0.39       141\n",
      "           3       0.56      0.74      0.64       152\n",
      "           4       0.32      0.57      0.41       105\n",
      "           5       0.27      0.24      0.25       143\n",
      "           6       0.37      0.46      0.41       169\n",
      "           7       0.17      0.11      0.13       100\n",
      "           8       0.00      0.00      0.00         6\n",
      "           9       0.15      0.05      0.08       133\n",
      "\n",
      "    accuracy                           0.37      1257\n",
      "   macro avg       0.29      0.32      0.29      1257\n",
      "weighted avg       0.33      0.37      0.34      1257\n",
      "\n"
     ]
    },
    {
     "name": "stderr",
     "output_type": "stream",
     "text": [
      "D:\\anaconda\\envs\\gauss_spotify\\lib\\site-packages\\sklearn\\metrics\\_classification.py:1318: UndefinedMetricWarning: Precision and F-score are ill-defined and being set to 0.0 in labels with no predicted samples. Use `zero_division` parameter to control this behavior.\n",
      "  _warn_prf(average, modifier, msg_start, len(result))\n",
      "D:\\anaconda\\envs\\gauss_spotify\\lib\\site-packages\\sklearn\\metrics\\_classification.py:1318: UndefinedMetricWarning: Precision and F-score are ill-defined and being set to 0.0 in labels with no predicted samples. Use `zero_division` parameter to control this behavior.\n",
      "  _warn_prf(average, modifier, msg_start, len(result))\n",
      "D:\\anaconda\\envs\\gauss_spotify\\lib\\site-packages\\sklearn\\metrics\\_classification.py:1318: UndefinedMetricWarning: Precision and F-score are ill-defined and being set to 0.0 in labels with no predicted samples. Use `zero_division` parameter to control this behavior.\n",
      "  _warn_prf(average, modifier, msg_start, len(result))\n"
     ]
    }
   ],
   "source": [
    "print(classification_report(y_test_le, preds))"
   ]
  },
  {
   "cell_type": "markdown",
   "metadata": {},
   "source": [
    "# Without Reggea"
   ]
  },
  {
   "cell_type": "code",
   "execution_count": 15,
   "metadata": {},
   "outputs": [],
   "source": [
    "df2 = df[df['genre'] != 'reggae']"
   ]
  },
  {
   "cell_type": "code",
   "execution_count": 57,
   "metadata": {},
   "outputs": [],
   "source": [
    "# Splitting set to train and test sets\n",
    "X_train, X_test, y_train, y_test = train_test_split(df2.loc[:, 'tokens_lemma'], df2['genre'],\n",
    "                                                    random_state=7, stratify=df2['genre'], test_size=0.2)"
   ]
  },
  {
   "cell_type": "code",
   "execution_count": 113,
   "metadata": {},
   "outputs": [],
   "source": [
    "onehot = OneHotEncoder(sparse=False)\n",
    "y_train_oh = onehot.fit_transform(y_train.to_frame())\n",
    "y_test_oh = onehot.transform(y_test.to_frame())"
   ]
  },
  {
   "cell_type": "code",
   "execution_count": 114,
   "metadata": {},
   "outputs": [],
   "source": [
    "# Tokenize our training data\n",
    "tokenizer = Tokenizer(num_words=num_words, oov_token=oov_token)\n",
    "tokenizer.fit_on_texts(X_train)\n",
    "\n",
    "# Get our training data word index\n",
    "word_index = tokenizer.word_index\n",
    "\n",
    "# Encode training data sentences into sequences\n",
    "train_sequences = tokenizer.texts_to_sequences(X_train)\n",
    "\n",
    "# Pad the training sequences\n",
    "train_padded = pad_sequences(train_sequences, padding=pad_type, truncating=trunc_type, maxlen=max_len)"
   ]
  },
  {
   "cell_type": "markdown",
   "metadata": {},
   "source": [
    "# Modeling"
   ]
  },
  {
   "cell_type": "code",
   "execution_count": 87,
   "metadata": {},
   "outputs": [
    {
     "name": "stdout",
     "output_type": "stream",
     "text": [
      "Model: \"sequential_21\"\n",
      "_________________________________________________________________\n",
      " Layer (type)                Output Shape              Param #   \n",
      "=================================================================\n",
      " embedding_21 (Embedding)    (None, 1000, 100)         100100    \n",
      "                                                                 \n",
      " conv1d_9 (Conv1D)           (None, 993, 32)           25632     \n",
      "                                                                 \n",
      " max_pooling1d_8 (MaxPooling  (None, 496, 32)          0         \n",
      " 1D)                                                             \n",
      "                                                                 \n",
      " flatten_11 (Flatten)        (None, 15872)             0         \n",
      "                                                                 \n",
      " dense_66 (Dense)            (None, 100)               1587300   \n",
      "                                                                 \n",
      " dropout_53 (Dropout)        (None, 100)               0         \n",
      "                                                                 \n",
      " dense_67 (Dense)            (None, 60)                6060      \n",
      "                                                                 \n",
      " dropout_54 (Dropout)        (None, 60)                0         \n",
      "                                                                 \n",
      " dense_68 (Dense)            (None, 9)                 549       \n",
      "                                                                 \n",
      "=================================================================\n",
      "Total params: 1,719,641\n",
      "Trainable params: 1,719,641\n",
      "Non-trainable params: 0\n",
      "_________________________________________________________________\n"
     ]
    }
   ],
   "source": [
    "embedding_dim = 100\n",
    "\n",
    "model = Sequential([\n",
    "  Embedding(max_len + 1, embedding_dim, input_length=max_len),\n",
    "#   GlobalAveragePooling1D(),\n",
    "  Conv1D(filters=32, kernel_size=8, activation='relu'),\n",
    "  MaxPooling1D(pool_size=2),\n",
    "  Flatten(),\n",
    "  Dense(100, activation='relu'),\n",
    "  Dropout(0.3),\n",
    "  Dense(60, activation='relu'),\n",
    "  Dropout(0.3),\n",
    "  Dense(9, activation='softmax')])\n",
    "\n",
    "model.summary()"
   ]
  },
  {
   "cell_type": "code",
   "execution_count": 88,
   "metadata": {},
   "outputs": [],
   "source": [
    "model.compile(loss=tf.losses.SparseCategoricalCrossentropy(from_logits=True),\n",
    "              optimizer='adam',\n",
    "              metrics=['accuracy'])"
   ]
  },
  {
   "cell_type": "code",
   "execution_count": 131,
   "metadata": {},
   "outputs": [],
   "source": [
    "def define_model(length, vocab_size):\n",
    "\t# channel 1\n",
    "\tinputs1 = Input(shape=(length,))\n",
    "\tembedding1 = Embedding(vocab_size, 100)(inputs1)\n",
    "\tconv1 = Conv1D(filters=32, kernel_size=4, activation='relu')(embedding1)\n",
    "\tdrop1 = Dropout(0.5)(conv1)\n",
    "\tpool1 = MaxPooling1D(pool_size=2)(drop1)\n",
    "\tflat1 = Flatten()(pool1)\n",
    "\t# channel 2\n",
    "\tinputs2 = Input(shape=(length,))\n",
    "\tembedding2 = Embedding(vocab_size, 100)(inputs2)\n",
    "\tconv2 = Conv1D(filters=32, kernel_size=6, activation='relu')(embedding2)\n",
    "\tdrop2 = Dropout(0.5)(conv2)\n",
    "\tpool2 = MaxPooling1D(pool_size=2)(drop2)\n",
    "\tflat2 = Flatten()(pool2)\n",
    "\t# channel 3\n",
    "\tinputs3 = Input(shape=(length,))\n",
    "\tembedding3 = Embedding(vocab_size, 100)(inputs3)\n",
    "\tconv3 = Conv1D(filters=32, kernel_size=8, activation='relu')(embedding3)\n",
    "\tdrop3 = Dropout(0.5)(conv3)\n",
    "\tpool3 = MaxPooling1D(pool_size=2)(drop3)\n",
    "\tflat3 = Flatten()(pool3)\n",
    "\t# merge\n",
    "\tmerged = concatenate([flat1, flat2, flat3])\n",
    "\t# interpretation\n",
    "\tdense1 = Dense(30, activation='relu')(merged)\n",
    "\toutputs = Dense(9, activation='softmax')(dense1)\n",
    "\tmodel = Model(inputs=[inputs1, inputs2, inputs3], outputs=outputs)\n",
    "\t# compile\n",
    "\tmodel.compile(loss=tf.losses.SparseCategoricalCrossentropy(from_logits=False),\n",
    "              optimizer='adam',\n",
    "              metrics=['accuracy'])\n",
    "\t# summarize\n",
    "\tprint(model.summary())\n",
    "\treturn model"
   ]
  },
  {
   "cell_type": "code",
   "execution_count": 132,
   "metadata": {
    "scrolled": true
   },
   "outputs": [
    {
     "name": "stdout",
     "output_type": "stream",
     "text": [
      "Model: \"model_6\"\n",
      "__________________________________________________________________________________________________\n",
      " Layer (type)                   Output Shape         Param #     Connected to                     \n",
      "==================================================================================================\n",
      " input_25 (InputLayer)          [(None, 1000)]       0           []                               \n",
      "                                                                                                  \n",
      " input_26 (InputLayer)          [(None, 1000)]       0           []                               \n",
      "                                                                                                  \n",
      " input_27 (InputLayer)          [(None, 1000)]       0           []                               \n",
      "                                                                                                  \n",
      " embedding_46 (Embedding)       (None, 1000, 100)    100100      ['input_25[0][0]']               \n",
      "                                                                                                  \n",
      " embedding_47 (Embedding)       (None, 1000, 100)    100100      ['input_26[0][0]']               \n",
      "                                                                                                  \n",
      " embedding_48 (Embedding)       (None, 1000, 100)    100100      ['input_27[0][0]']               \n",
      "                                                                                                  \n",
      " conv1d_34 (Conv1D)             (None, 997, 32)      12832       ['embedding_46[0][0]']           \n",
      "                                                                                                  \n",
      " conv1d_35 (Conv1D)             (None, 995, 32)      19232       ['embedding_47[0][0]']           \n",
      "                                                                                                  \n",
      " conv1d_36 (Conv1D)             (None, 993, 32)      25632       ['embedding_48[0][0]']           \n",
      "                                                                                                  \n",
      " dropout_79 (Dropout)           (None, 997, 32)      0           ['conv1d_34[0][0]']              \n",
      "                                                                                                  \n",
      " dropout_80 (Dropout)           (None, 995, 32)      0           ['conv1d_35[0][0]']              \n",
      "                                                                                                  \n",
      " dropout_81 (Dropout)           (None, 993, 32)      0           ['conv1d_36[0][0]']              \n",
      "                                                                                                  \n",
      " max_pooling1d_33 (MaxPooling1D  (None, 498, 32)     0           ['dropout_79[0][0]']             \n",
      " )                                                                                                \n",
      "                                                                                                  \n",
      " max_pooling1d_34 (MaxPooling1D  (None, 497, 32)     0           ['dropout_80[0][0]']             \n",
      " )                                                                                                \n",
      "                                                                                                  \n",
      " max_pooling1d_35 (MaxPooling1D  (None, 496, 32)     0           ['dropout_81[0][0]']             \n",
      " )                                                                                                \n",
      "                                                                                                  \n",
      " flatten_36 (Flatten)           (None, 15936)        0           ['max_pooling1d_33[0][0]']       \n",
      "                                                                                                  \n",
      " flatten_37 (Flatten)           (None, 15904)        0           ['max_pooling1d_34[0][0]']       \n",
      "                                                                                                  \n",
      " flatten_38 (Flatten)           (None, 15872)        0           ['max_pooling1d_35[0][0]']       \n",
      "                                                                                                  \n",
      " concatenate_7 (Concatenate)    (None, 47712)        0           ['flatten_36[0][0]',             \n",
      "                                                                  'flatten_37[0][0]',             \n",
      "                                                                  'flatten_38[0][0]']             \n",
      "                                                                                                  \n",
      " dense_83 (Dense)               (None, 30)           1431390     ['concatenate_7[0][0]']          \n",
      "                                                                                                  \n",
      " dense_84 (Dense)               (None, 9)            279         ['dense_83[0][0]']               \n",
      "                                                                                                  \n",
      "==================================================================================================\n",
      "Total params: 1,789,665\n",
      "Trainable params: 1,789,665\n",
      "Non-trainable params: 0\n",
      "__________________________________________________________________________________________________\n",
      "None\n"
     ]
    }
   ],
   "source": [
    "model = define_model(max_len, max_len+1)"
   ]
  },
  {
   "cell_type": "code",
   "execution_count": 133,
   "metadata": {},
   "outputs": [
    {
     "data": {
      "text/plain": [
       "(5004, 1, 9)"
      ]
     },
     "execution_count": 133,
     "metadata": {},
     "output_type": "execute_result"
    }
   ],
   "source": [
    "np.expand_dims(y_train_oh, 1).shape"
   ]
  },
  {
   "cell_type": "code",
   "execution_count": 134,
   "metadata": {},
   "outputs": [
    {
     "name": "stdout",
     "output_type": "stream",
     "text": [
      "Epoch 1/30\n",
      "251/251 [==============================] - 26s 102ms/step - loss: 2.0392 - accuracy: 0.2383 - val_loss: 1.9591 - val_accuracy: 0.2757\n",
      "Epoch 2/30\n",
      "251/251 [==============================] - 24s 97ms/step - loss: 1.7885 - accuracy: 0.3535 - val_loss: 1.8318 - val_accuracy: 0.3656\n",
      "Epoch 3/30\n",
      "251/251 [==============================] - 24s 96ms/step - loss: 1.4076 - accuracy: 0.5014 - val_loss: 1.8945 - val_accuracy: 0.3307\n",
      "Epoch 4/30\n",
      "251/251 [==============================] - 25s 98ms/step - loss: 0.9929 - accuracy: 0.6608 - val_loss: 2.1229 - val_accuracy: 0.3237\n",
      "Epoch 5/30\n",
      "251/251 [==============================] - 24s 97ms/step - loss: 0.6335 - accuracy: 0.7957 - val_loss: 2.2688 - val_accuracy: 0.3407\n",
      "Epoch 6/30\n",
      "251/251 [==============================] - 25s 98ms/step - loss: 0.4207 - accuracy: 0.8741 - val_loss: 2.5451 - val_accuracy: 0.3397\n",
      "Epoch 7/30\n",
      "251/251 [==============================] - 25s 98ms/step - loss: 0.2782 - accuracy: 0.9211 - val_loss: 2.6903 - val_accuracy: 0.3327\n",
      "Epoch 8/30\n",
      "251/251 [==============================] - 25s 99ms/step - loss: 0.2040 - accuracy: 0.9468 - val_loss: 3.0551 - val_accuracy: 0.3167\n",
      "Epoch 9/30\n",
      "251/251 [==============================] - 25s 99ms/step - loss: 0.1588 - accuracy: 0.9560 - val_loss: 3.2296 - val_accuracy: 0.3297\n",
      "Epoch 10/30\n",
      "251/251 [==============================] - 24s 97ms/step - loss: 0.1397 - accuracy: 0.9610 - val_loss: 3.5111 - val_accuracy: 0.3417\n",
      "Epoch 11/30\n",
      "251/251 [==============================] - 25s 99ms/step - loss: 0.1285 - accuracy: 0.9635 - val_loss: 3.4010 - val_accuracy: 0.3377\n",
      "Epoch 12/30\n",
      "251/251 [==============================] - 25s 101ms/step - loss: 0.1260 - accuracy: 0.9665 - val_loss: 3.6577 - val_accuracy: 0.3357\n",
      "Epoch 13/30\n",
      "251/251 [==============================] - 26s 102ms/step - loss: 0.1271 - accuracy: 0.9610 - val_loss: 3.8279 - val_accuracy: 0.3187\n",
      "Epoch 14/30\n",
      "251/251 [==============================] - 26s 102ms/step - loss: 0.1259 - accuracy: 0.9645 - val_loss: 4.0501 - val_accuracy: 0.3137\n",
      "Epoch 15/30\n",
      "251/251 [==============================] - 26s 104ms/step - loss: 0.1088 - accuracy: 0.9698 - val_loss: 3.9037 - val_accuracy: 0.3317\n",
      "Epoch 16/30\n",
      "251/251 [==============================] - 26s 103ms/step - loss: 0.1051 - accuracy: 0.9695 - val_loss: 4.1817 - val_accuracy: 0.3057\n",
      "Epoch 17/30\n",
      "234/251 [==========================>...] - ETA: 1s - loss: 0.0934 - accuracy: 0.9709"
     ]
    },
    {
     "ename": "KeyboardInterrupt",
     "evalue": "",
     "output_type": "error",
     "traceback": [
      "\u001b[1;31m---------------------------------------------------------------------------\u001b[0m",
      "\u001b[1;31mKeyboardInterrupt\u001b[0m                         Traceback (most recent call last)",
      "\u001b[1;32mC:\\Users\\RAFA~1\\AppData\\Local\\Temp/ipykernel_10580/1500584250.py\u001b[0m in \u001b[0;36m<module>\u001b[1;34m\u001b[0m\n\u001b[0;32m      1\u001b[0m \u001b[0mepochs\u001b[0m \u001b[1;33m=\u001b[0m \u001b[1;36m30\u001b[0m\u001b[1;33m\u001b[0m\u001b[1;33m\u001b[0m\u001b[0m\n\u001b[1;32m----> 2\u001b[1;33m history = model.fit(\n\u001b[0m\u001b[0;32m      3\u001b[0m     \u001b[1;33m[\u001b[0m\u001b[0mtrain_padded\u001b[0m\u001b[1;33m,\u001b[0m \u001b[0mtrain_padded\u001b[0m\u001b[1;33m,\u001b[0m \u001b[0mtrain_padded\u001b[0m\u001b[1;33m]\u001b[0m\u001b[1;33m,\u001b[0m\u001b[1;33m\u001b[0m\u001b[1;33m\u001b[0m\u001b[0m\n\u001b[0;32m      4\u001b[0m     \u001b[0my_train_le\u001b[0m\u001b[1;33m,\u001b[0m\u001b[1;33m\u001b[0m\u001b[1;33m\u001b[0m\u001b[0m\n\u001b[0;32m      5\u001b[0m     \u001b[0mvalidation_split\u001b[0m\u001b[1;33m=\u001b[0m\u001b[1;36m0.2\u001b[0m\u001b[1;33m,\u001b[0m\u001b[1;33m\u001b[0m\u001b[1;33m\u001b[0m\u001b[0m\n",
      "\u001b[1;32mD:\\anaconda\\envs\\gauss_spotify\\lib\\site-packages\\keras\\utils\\traceback_utils.py\u001b[0m in \u001b[0;36merror_handler\u001b[1;34m(*args, **kwargs)\u001b[0m\n\u001b[0;32m     62\u001b[0m     \u001b[0mfiltered_tb\u001b[0m \u001b[1;33m=\u001b[0m \u001b[1;32mNone\u001b[0m\u001b[1;33m\u001b[0m\u001b[1;33m\u001b[0m\u001b[0m\n\u001b[0;32m     63\u001b[0m     \u001b[1;32mtry\u001b[0m\u001b[1;33m:\u001b[0m\u001b[1;33m\u001b[0m\u001b[1;33m\u001b[0m\u001b[0m\n\u001b[1;32m---> 64\u001b[1;33m       \u001b[1;32mreturn\u001b[0m \u001b[0mfn\u001b[0m\u001b[1;33m(\u001b[0m\u001b[1;33m*\u001b[0m\u001b[0margs\u001b[0m\u001b[1;33m,\u001b[0m \u001b[1;33m**\u001b[0m\u001b[0mkwargs\u001b[0m\u001b[1;33m)\u001b[0m\u001b[1;33m\u001b[0m\u001b[1;33m\u001b[0m\u001b[0m\n\u001b[0m\u001b[0;32m     65\u001b[0m     \u001b[1;32mexcept\u001b[0m \u001b[0mException\u001b[0m \u001b[1;32mas\u001b[0m \u001b[0me\u001b[0m\u001b[1;33m:\u001b[0m  \u001b[1;31m# pylint: disable=broad-except\u001b[0m\u001b[1;33m\u001b[0m\u001b[1;33m\u001b[0m\u001b[0m\n\u001b[0;32m     66\u001b[0m       \u001b[0mfiltered_tb\u001b[0m \u001b[1;33m=\u001b[0m \u001b[0m_process_traceback_frames\u001b[0m\u001b[1;33m(\u001b[0m\u001b[0me\u001b[0m\u001b[1;33m.\u001b[0m\u001b[0m__traceback__\u001b[0m\u001b[1;33m)\u001b[0m\u001b[1;33m\u001b[0m\u001b[1;33m\u001b[0m\u001b[0m\n",
      "\u001b[1;32mD:\\anaconda\\envs\\gauss_spotify\\lib\\site-packages\\keras\\engine\\training.py\u001b[0m in \u001b[0;36mfit\u001b[1;34m(self, x, y, batch_size, epochs, verbose, callbacks, validation_split, validation_data, shuffle, class_weight, sample_weight, initial_epoch, steps_per_epoch, validation_steps, validation_batch_size, validation_freq, max_queue_size, workers, use_multiprocessing)\u001b[0m\n\u001b[0;32m   1382\u001b[0m                 _r=1):\n\u001b[0;32m   1383\u001b[0m               \u001b[0mcallbacks\u001b[0m\u001b[1;33m.\u001b[0m\u001b[0mon_train_batch_begin\u001b[0m\u001b[1;33m(\u001b[0m\u001b[0mstep\u001b[0m\u001b[1;33m)\u001b[0m\u001b[1;33m\u001b[0m\u001b[1;33m\u001b[0m\u001b[0m\n\u001b[1;32m-> 1384\u001b[1;33m               \u001b[0mtmp_logs\u001b[0m \u001b[1;33m=\u001b[0m \u001b[0mself\u001b[0m\u001b[1;33m.\u001b[0m\u001b[0mtrain_function\u001b[0m\u001b[1;33m(\u001b[0m\u001b[0miterator\u001b[0m\u001b[1;33m)\u001b[0m\u001b[1;33m\u001b[0m\u001b[1;33m\u001b[0m\u001b[0m\n\u001b[0m\u001b[0;32m   1385\u001b[0m               \u001b[1;32mif\u001b[0m \u001b[0mdata_handler\u001b[0m\u001b[1;33m.\u001b[0m\u001b[0mshould_sync\u001b[0m\u001b[1;33m:\u001b[0m\u001b[1;33m\u001b[0m\u001b[1;33m\u001b[0m\u001b[0m\n\u001b[0;32m   1386\u001b[0m                 \u001b[0mcontext\u001b[0m\u001b[1;33m.\u001b[0m\u001b[0masync_wait\u001b[0m\u001b[1;33m(\u001b[0m\u001b[1;33m)\u001b[0m\u001b[1;33m\u001b[0m\u001b[1;33m\u001b[0m\u001b[0m\n",
      "\u001b[1;32mD:\\anaconda\\envs\\gauss_spotify\\lib\\site-packages\\tensorflow\\python\\util\\traceback_utils.py\u001b[0m in \u001b[0;36merror_handler\u001b[1;34m(*args, **kwargs)\u001b[0m\n\u001b[0;32m    148\u001b[0m     \u001b[0mfiltered_tb\u001b[0m \u001b[1;33m=\u001b[0m \u001b[1;32mNone\u001b[0m\u001b[1;33m\u001b[0m\u001b[1;33m\u001b[0m\u001b[0m\n\u001b[0;32m    149\u001b[0m     \u001b[1;32mtry\u001b[0m\u001b[1;33m:\u001b[0m\u001b[1;33m\u001b[0m\u001b[1;33m\u001b[0m\u001b[0m\n\u001b[1;32m--> 150\u001b[1;33m       \u001b[1;32mreturn\u001b[0m \u001b[0mfn\u001b[0m\u001b[1;33m(\u001b[0m\u001b[1;33m*\u001b[0m\u001b[0margs\u001b[0m\u001b[1;33m,\u001b[0m \u001b[1;33m**\u001b[0m\u001b[0mkwargs\u001b[0m\u001b[1;33m)\u001b[0m\u001b[1;33m\u001b[0m\u001b[1;33m\u001b[0m\u001b[0m\n\u001b[0m\u001b[0;32m    151\u001b[0m     \u001b[1;32mexcept\u001b[0m \u001b[0mException\u001b[0m \u001b[1;32mas\u001b[0m \u001b[0me\u001b[0m\u001b[1;33m:\u001b[0m\u001b[1;33m\u001b[0m\u001b[1;33m\u001b[0m\u001b[0m\n\u001b[0;32m    152\u001b[0m       \u001b[0mfiltered_tb\u001b[0m \u001b[1;33m=\u001b[0m \u001b[0m_process_traceback_frames\u001b[0m\u001b[1;33m(\u001b[0m\u001b[0me\u001b[0m\u001b[1;33m.\u001b[0m\u001b[0m__traceback__\u001b[0m\u001b[1;33m)\u001b[0m\u001b[1;33m\u001b[0m\u001b[1;33m\u001b[0m\u001b[0m\n",
      "\u001b[1;32mD:\\anaconda\\envs\\gauss_spotify\\lib\\site-packages\\tensorflow\\python\\eager\\def_function.py\u001b[0m in \u001b[0;36m__call__\u001b[1;34m(self, *args, **kwds)\u001b[0m\n\u001b[0;32m    913\u001b[0m \u001b[1;33m\u001b[0m\u001b[0m\n\u001b[0;32m    914\u001b[0m       \u001b[1;32mwith\u001b[0m \u001b[0mOptionalXlaContext\u001b[0m\u001b[1;33m(\u001b[0m\u001b[0mself\u001b[0m\u001b[1;33m.\u001b[0m\u001b[0m_jit_compile\u001b[0m\u001b[1;33m)\u001b[0m\u001b[1;33m:\u001b[0m\u001b[1;33m\u001b[0m\u001b[1;33m\u001b[0m\u001b[0m\n\u001b[1;32m--> 915\u001b[1;33m         \u001b[0mresult\u001b[0m \u001b[1;33m=\u001b[0m \u001b[0mself\u001b[0m\u001b[1;33m.\u001b[0m\u001b[0m_call\u001b[0m\u001b[1;33m(\u001b[0m\u001b[1;33m*\u001b[0m\u001b[0margs\u001b[0m\u001b[1;33m,\u001b[0m \u001b[1;33m**\u001b[0m\u001b[0mkwds\u001b[0m\u001b[1;33m)\u001b[0m\u001b[1;33m\u001b[0m\u001b[1;33m\u001b[0m\u001b[0m\n\u001b[0m\u001b[0;32m    916\u001b[0m \u001b[1;33m\u001b[0m\u001b[0m\n\u001b[0;32m    917\u001b[0m       \u001b[0mnew_tracing_count\u001b[0m \u001b[1;33m=\u001b[0m \u001b[0mself\u001b[0m\u001b[1;33m.\u001b[0m\u001b[0mexperimental_get_tracing_count\u001b[0m\u001b[1;33m(\u001b[0m\u001b[1;33m)\u001b[0m\u001b[1;33m\u001b[0m\u001b[1;33m\u001b[0m\u001b[0m\n",
      "\u001b[1;32mD:\\anaconda\\envs\\gauss_spotify\\lib\\site-packages\\tensorflow\\python\\eager\\def_function.py\u001b[0m in \u001b[0;36m_call\u001b[1;34m(self, *args, **kwds)\u001b[0m\n\u001b[0;32m    945\u001b[0m       \u001b[1;31m# In this case we have created variables on the first call, so we run the\u001b[0m\u001b[1;33m\u001b[0m\u001b[1;33m\u001b[0m\u001b[0m\n\u001b[0;32m    946\u001b[0m       \u001b[1;31m# defunned version which is guaranteed to never create variables.\u001b[0m\u001b[1;33m\u001b[0m\u001b[1;33m\u001b[0m\u001b[0m\n\u001b[1;32m--> 947\u001b[1;33m       \u001b[1;32mreturn\u001b[0m \u001b[0mself\u001b[0m\u001b[1;33m.\u001b[0m\u001b[0m_stateless_fn\u001b[0m\u001b[1;33m(\u001b[0m\u001b[1;33m*\u001b[0m\u001b[0margs\u001b[0m\u001b[1;33m,\u001b[0m \u001b[1;33m**\u001b[0m\u001b[0mkwds\u001b[0m\u001b[1;33m)\u001b[0m  \u001b[1;31m# pylint: disable=not-callable\u001b[0m\u001b[1;33m\u001b[0m\u001b[1;33m\u001b[0m\u001b[0m\n\u001b[0m\u001b[0;32m    948\u001b[0m     \u001b[1;32melif\u001b[0m \u001b[0mself\u001b[0m\u001b[1;33m.\u001b[0m\u001b[0m_stateful_fn\u001b[0m \u001b[1;32mis\u001b[0m \u001b[1;32mnot\u001b[0m \u001b[1;32mNone\u001b[0m\u001b[1;33m:\u001b[0m\u001b[1;33m\u001b[0m\u001b[1;33m\u001b[0m\u001b[0m\n\u001b[0;32m    949\u001b[0m       \u001b[1;31m# Release the lock early so that multiple threads can perform the call\u001b[0m\u001b[1;33m\u001b[0m\u001b[1;33m\u001b[0m\u001b[0m\n",
      "\u001b[1;32mD:\\anaconda\\envs\\gauss_spotify\\lib\\site-packages\\tensorflow\\python\\eager\\function.py\u001b[0m in \u001b[0;36m__call__\u001b[1;34m(self, *args, **kwargs)\u001b[0m\n\u001b[0;32m   2954\u001b[0m       (graph_function,\n\u001b[0;32m   2955\u001b[0m        filtered_flat_args) = self._maybe_define_function(args, kwargs)\n\u001b[1;32m-> 2956\u001b[1;33m     return graph_function._call_flat(\n\u001b[0m\u001b[0;32m   2957\u001b[0m         filtered_flat_args, captured_inputs=graph_function.captured_inputs)  # pylint: disable=protected-access\n\u001b[0;32m   2958\u001b[0m \u001b[1;33m\u001b[0m\u001b[0m\n",
      "\u001b[1;32mD:\\anaconda\\envs\\gauss_spotify\\lib\\site-packages\\tensorflow\\python\\eager\\function.py\u001b[0m in \u001b[0;36m_call_flat\u001b[1;34m(self, args, captured_inputs, cancellation_manager)\u001b[0m\n\u001b[0;32m   1851\u001b[0m         and executing_eagerly):\n\u001b[0;32m   1852\u001b[0m       \u001b[1;31m# No tape is watching; skip to running the function.\u001b[0m\u001b[1;33m\u001b[0m\u001b[1;33m\u001b[0m\u001b[0m\n\u001b[1;32m-> 1853\u001b[1;33m       return self._build_call_outputs(self._inference_function.call(\n\u001b[0m\u001b[0;32m   1854\u001b[0m           ctx, args, cancellation_manager=cancellation_manager))\n\u001b[0;32m   1855\u001b[0m     forward_backward = self._select_forward_and_backward_functions(\n",
      "\u001b[1;32mD:\\anaconda\\envs\\gauss_spotify\\lib\\site-packages\\tensorflow\\python\\eager\\function.py\u001b[0m in \u001b[0;36mcall\u001b[1;34m(self, ctx, args, cancellation_manager)\u001b[0m\n\u001b[0;32m    497\u001b[0m       \u001b[1;32mwith\u001b[0m \u001b[0m_InterpolateFunctionError\u001b[0m\u001b[1;33m(\u001b[0m\u001b[0mself\u001b[0m\u001b[1;33m)\u001b[0m\u001b[1;33m:\u001b[0m\u001b[1;33m\u001b[0m\u001b[1;33m\u001b[0m\u001b[0m\n\u001b[0;32m    498\u001b[0m         \u001b[1;32mif\u001b[0m \u001b[0mcancellation_manager\u001b[0m \u001b[1;32mis\u001b[0m \u001b[1;32mNone\u001b[0m\u001b[1;33m:\u001b[0m\u001b[1;33m\u001b[0m\u001b[1;33m\u001b[0m\u001b[0m\n\u001b[1;32m--> 499\u001b[1;33m           outputs = execute.execute(\n\u001b[0m\u001b[0;32m    500\u001b[0m               \u001b[0mstr\u001b[0m\u001b[1;33m(\u001b[0m\u001b[0mself\u001b[0m\u001b[1;33m.\u001b[0m\u001b[0msignature\u001b[0m\u001b[1;33m.\u001b[0m\u001b[0mname\u001b[0m\u001b[1;33m)\u001b[0m\u001b[1;33m,\u001b[0m\u001b[1;33m\u001b[0m\u001b[1;33m\u001b[0m\u001b[0m\n\u001b[0;32m    501\u001b[0m               \u001b[0mnum_outputs\u001b[0m\u001b[1;33m=\u001b[0m\u001b[0mself\u001b[0m\u001b[1;33m.\u001b[0m\u001b[0m_num_outputs\u001b[0m\u001b[1;33m,\u001b[0m\u001b[1;33m\u001b[0m\u001b[1;33m\u001b[0m\u001b[0m\n",
      "\u001b[1;32mD:\\anaconda\\envs\\gauss_spotify\\lib\\site-packages\\tensorflow\\python\\eager\\execute.py\u001b[0m in \u001b[0;36mquick_execute\u001b[1;34m(op_name, num_outputs, inputs, attrs, ctx, name)\u001b[0m\n\u001b[0;32m     52\u001b[0m   \u001b[1;32mtry\u001b[0m\u001b[1;33m:\u001b[0m\u001b[1;33m\u001b[0m\u001b[1;33m\u001b[0m\u001b[0m\n\u001b[0;32m     53\u001b[0m     \u001b[0mctx\u001b[0m\u001b[1;33m.\u001b[0m\u001b[0mensure_initialized\u001b[0m\u001b[1;33m(\u001b[0m\u001b[1;33m)\u001b[0m\u001b[1;33m\u001b[0m\u001b[1;33m\u001b[0m\u001b[0m\n\u001b[1;32m---> 54\u001b[1;33m     tensors = pywrap_tfe.TFE_Py_Execute(ctx._handle, device_name, op_name,\n\u001b[0m\u001b[0;32m     55\u001b[0m                                         inputs, attrs, num_outputs)\n\u001b[0;32m     56\u001b[0m   \u001b[1;32mexcept\u001b[0m \u001b[0mcore\u001b[0m\u001b[1;33m.\u001b[0m\u001b[0m_NotOkStatusException\u001b[0m \u001b[1;32mas\u001b[0m \u001b[0me\u001b[0m\u001b[1;33m:\u001b[0m\u001b[1;33m\u001b[0m\u001b[1;33m\u001b[0m\u001b[0m\n",
      "\u001b[1;31mKeyboardInterrupt\u001b[0m: "
     ]
    }
   ],
   "source": [
    "epochs = 30\n",
    "history = model.fit(\n",
    "    [train_padded, train_padded, train_padded],\n",
    "    y_train_le,\n",
    "    validation_split=0.2,\n",
    "    batch_size=16,\n",
    "    epochs=epochs)"
   ]
  },
  {
   "cell_type": "code",
   "execution_count": 68,
   "metadata": {},
   "outputs": [
    {
     "data": {
      "text/plain": [
       "dict_keys(['loss', 'accuracy', 'val_loss', 'val_accuracy'])"
      ]
     },
     "execution_count": 68,
     "metadata": {},
     "output_type": "execute_result"
    }
   ],
   "source": [
    "history_dict = history.history\n",
    "history_dict.keys()"
   ]
  },
  {
   "cell_type": "code",
   "execution_count": 69,
   "metadata": {},
   "outputs": [
    {
     "data": {
      "image/png": "[encoded data removed]",
      "text/plain": [
       "<Figure size 936x504 with 1 Axes>"
      ]
     },
     "metadata": {},
     "output_type": "display_data"
    }
   ],
   "source": [
    "acc = history_dict['accuracy']\n",
    "val_acc = history_dict['val_accuracy']\n",
    "loss = history_dict['loss']\n",
    "val_loss = history_dict['val_loss']\n",
    "\n",
    "epochs = range(1, len(acc) + 1)\n",
    "\n",
    "# \"bo\" is for \"blue dot\"\n",
    "plt.plot(epochs, loss, 'bo', label='Training loss')\n",
    "# b is for \"solid blue line\"\n",
    "plt.plot(epochs, val_loss, 'b', label='Validation loss')\n",
    "plt.title('Training and validation loss')\n",
    "plt.xlabel('Epochs')\n",
    "plt.ylabel('Loss')\n",
    "plt.legend()\n",
    "\n",
    "plt.show()"
   ]
  },
  {
   "cell_type": "code",
   "execution_count": 70,
   "metadata": {},
   "outputs": [
    {
     "data": {
      "image/png": "[encoded data removed]",
      "text/plain": [
       "<Figure size 936x504 with 1 Axes>"
      ]
     },
     "metadata": {},
     "output_type": "display_data"
    }
   ],
   "source": [
    "plt.plot(epochs, acc, 'bo', label='Training acc')\n",
    "plt.plot(epochs, val_acc, 'b', label='Validation acc')\n",
    "plt.title('Training and validation accuracy')\n",
    "plt.xlabel('Epochs')\n",
    "plt.ylabel('Accuracy')\n",
    "plt.legend(loc='lower right')\n",
    "\n",
    "plt.show()"
   ]
  },
  {
   "cell_type": "code",
   "execution_count": 71,
   "metadata": {},
   "outputs": [],
   "source": [
    "# Encode training data sentences into sequences\n",
    "test_sequences = tokenizer.texts_to_sequences(X_test)\n",
    "\n",
    "# Pad the training sequences\n",
    "test_padded = pad_sequences(test_sequences, padding=pad_type, truncating=trunc_type, maxlen=max_len)"
   ]
  },
  {
   "cell_type": "code",
   "execution_count": 72,
   "metadata": {},
   "outputs": [],
   "source": [
    "preds = model.predict(test_padded)"
   ]
  },
  {
   "cell_type": "code",
   "execution_count": 73,
   "metadata": {},
   "outputs": [],
   "source": [
    "preds = np.argmax(preds, axis=1)"
   ]
  },
  {
   "cell_type": "code",
   "execution_count": 74,
   "metadata": {},
   "outputs": [
    {
     "name": "stdout",
     "output_type": "stream",
     "text": [
      "              precision    recall  f1-score   support\n",
      "\n",
      "           0       0.34      0.21      0.26       141\n",
      "           1       0.52      0.54      0.53       167\n",
      "           2       0.40      0.38      0.39       141\n",
      "           3       0.52      0.72      0.61       152\n",
      "           4       0.34      0.54      0.42       105\n",
      "           5       0.20      0.29      0.24       144\n",
      "           6       0.34      0.39      0.36       169\n",
      "           7       0.20      0.12      0.15       100\n",
      "           8       0.07      0.01      0.01       133\n",
      "\n",
      "    accuracy                           0.37      1252\n",
      "   macro avg       0.33      0.36      0.33      1252\n",
      "weighted avg       0.34      0.37      0.34      1252\n",
      "\n"
     ]
    }
   ],
   "source": [
    "print(classification_report(y_test_le, preds))"
   ]
  }
 ],
 "metadata": {
  "kernelspec": {
   "display_name": "gauss_spotify",
   "language": "python",
   "name": "gauss_spotify"
  },
  "language_info": {
   "codemirror_mode": {
    "name": "ipython",
    "version": 3
   },
   "file_extension": ".py",
   "mimetype": "text/x-python",
   "name": "python",
   "nbconvert_exporter": "python",
   "pygments_lexer": "ipython3",
   "version": "3.9.7"
  },
  "toc": {
   "base_numbering": 1,
   "nav_menu": {},
   "number_sections": true,
   "sideBar": true,
   "skip_h1_title": false,
   "title_cell": "Table of Contents",
   "title_sidebar": "Contents",
   "toc_cell": false,
   "toc_position": {},
   "toc_section_display": true,
   "toc_window_display": false
  }
 },
 "nbformat": 4,
 "nbformat_minor": 2
}
